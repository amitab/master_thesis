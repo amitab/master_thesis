{
 "cells": [
  {
   "cell_type": "code",
   "execution_count": 4,
   "metadata": {},
   "outputs": [],
   "source": [
    "import tensorflow as tf\n",
    "import numpy as np\n",
    "\n",
    "def weights_diff(model1, model2):\n",
    "    model_diff = []\n",
    "    layer_sizes = []\n",
    "    for i in range(len(model1.layers)):\n",
    "      if len(model1.layers[i].get_weights()) > 0:\n",
    "#         print(\"Layer \" + str(i + 1) + \":\")\n",
    "        layer_diff = model1.layers[i].get_weights()[0] - model2.layers[i].get_weights()[0]\n",
    "        model_diff.append(layer_diff)\n",
    "#         print(layer_diff)\n",
    "    for i in range(len(model_diff)):\n",
    "      current_layer_size = 0\n",
    "      total_nonzero = 0\n",
    "      max = 0\n",
    "      for cell in np.nditer(model_diff[i]):\n",
    "        current_layer_size += 1\n",
    "        if abs(cell) > 0.01:\n",
    "          total_nonzero += 1\n",
    "          if abs(cell) > max:\n",
    "            max = cell\n",
    "      percentage_diff = ((total_nonzero * 1.) / current_layer_size) * 100\n",
    "      print(\"Amount of different weights in Layer \" + str(i + 1) + \": \" + str(total_nonzero)\n",
    "            + \" / \" + str(current_layer_size) + \" (\" + str(percentage_diff) + \"%)\")\n",
    "      print(\"Maximum Difference in Layer \" + str(i+1) + \": \" + str(max))\n",
    "      layer_sizes.append(current_layer_size)"
   ]
  },
  {
   "cell_type": "code",
   "execution_count": 5,
   "metadata": {},
   "outputs": [
    {
     "data": {
      "text/plain": [
       "'/home/jovyan/work/drift/Data Drift'"
      ]
     },
     "execution_count": 5,
     "metadata": {},
     "output_type": "execute_result"
    }
   ],
   "source": [
    "import os\n",
    "os.getcwd()"
   ]
  },
  {
   "cell_type": "code",
   "execution_count": 6,
   "metadata": {},
   "outputs": [
    {
     "name": "stdout",
     "output_type": "stream",
     "text": [
      "Amount of different weights in Layer 1: 133 / 288 (46.18055555555556%)\n",
      "Maximum Difference in Layer 1: 0.031100687\n",
      "Amount of different weights in Layer 2: 17 / 32 (53.125%)\n",
      "Maximum Difference in Layer 2: 0.034783542\n",
      "Amount of different weights in Layer 3: 3541 / 9216 (38.42230902777778%)\n",
      "Maximum Difference in Layer 3: 0.040661\n",
      "Amount of different weights in Layer 4: 16 / 32 (50.0%)\n",
      "Maximum Difference in Layer 4: 0.022628129\n",
      "Amount of different weights in Layer 5: 7304 / 25600 (28.531250000000004%)\n",
      "Maximum Difference in Layer 5: 0.039933342\n",
      "Amount of different weights in Layer 6: 12 / 32 (37.5%)\n",
      "Maximum Difference in Layer 6: -0.018496633\n",
      "Amount of different weights in Layer 7: 5560 / 18432 (30.164930555555557%)\n",
      "Maximum Difference in Layer 7: 0.03925994\n",
      "Amount of different weights in Layer 8: 16 / 64 (25.0%)\n",
      "Maximum Difference in Layer 8: 0.01779306\n",
      "Amount of different weights in Layer 9: 7281 / 36864 (19.7509765625%)\n",
      "Maximum Difference in Layer 9: 0.039166067\n",
      "Amount of different weights in Layer 10: 9 / 64 (14.0625%)\n",
      "Maximum Difference in Layer 10: 0.020306885\n",
      "Amount of different weights in Layer 11: 17301 / 102400 (16.8955078125%)\n",
      "Maximum Difference in Layer 11: 0.033095825\n",
      "Amount of different weights in Layer 12: 17 / 64 (26.5625%)\n",
      "Maximum Difference in Layer 12: 0.025193393\n",
      "Amount of different weights in Layer 13: 30147 / 131072 (23.000335693359375%)\n",
      "Maximum Difference in Layer 13: 0.036114343\n",
      "Amount of different weights in Layer 14: 53 / 128 (41.40625%)\n",
      "Maximum Difference in Layer 14: 0.030023336\n",
      "Amount of different weights in Layer 15: 412 / 1280 (32.1875%)\n",
      "Maximum Difference in Layer 15: 0.035416014\n",
      "----------------------------------\n",
      "Amount of different weights in Layer 1: 138 / 288 (47.91666666666667%)\n",
      "Maximum Difference in Layer 1: 0.024339952\n",
      "Amount of different weights in Layer 2: 13 / 32 (40.625%)\n",
      "Maximum Difference in Layer 2: 0.030868828\n",
      "Amount of different weights in Layer 3: 4569 / 9216 (49.57682291666667%)\n",
      "Maximum Difference in Layer 3: 0.09849842\n",
      "Amount of different weights in Layer 4: 17 / 32 (53.125%)\n",
      "Maximum Difference in Layer 4: 0.05513227\n",
      "Amount of different weights in Layer 5: 12718 / 25600 (49.6796875%)\n",
      "Maximum Difference in Layer 5: 0.059933364\n",
      "Amount of different weights in Layer 6: 21 / 32 (65.625%)\n",
      "Maximum Difference in Layer 6: 0.042245686\n",
      "Amount of different weights in Layer 7: 11080 / 18432 (60.11284722222222%)\n",
      "Maximum Difference in Layer 7: 0.05371028\n",
      "Amount of different weights in Layer 8: 36 / 64 (56.25%)\n",
      "Maximum Difference in Layer 8: 0.05224347\n",
      "Amount of different weights in Layer 9: 19147 / 36864 (51.93956163194444%)\n",
      "Maximum Difference in Layer 9: 0.06463643\n",
      "Amount of different weights in Layer 10: 33 / 64 (51.5625%)\n",
      "Maximum Difference in Layer 10: 0.038395405\n",
      "Amount of different weights in Layer 11: 49853 / 102400 (48.6845703125%)\n",
      "Maximum Difference in Layer 11: 0.07014316\n",
      "Amount of different weights in Layer 12: 37 / 64 (57.8125%)\n",
      "Maximum Difference in Layer 12: -0.047139168\n",
      "Amount of different weights in Layer 13: 73206 / 131072 (55.85174560546875%)\n",
      "Maximum Difference in Layer 13: 0.075728476\n",
      "Amount of different weights in Layer 14: 58 / 128 (45.3125%)\n",
      "Maximum Difference in Layer 14: -0.047313094\n",
      "Amount of different weights in Layer 15: 661 / 1280 (51.64062499999999%)\n",
      "Maximum Difference in Layer 15: 0.112462156\n",
      "----------------------------------\n",
      "Amount of different weights in Layer 1: 174 / 288 (60.416666666666664%)\n",
      "Maximum Difference in Layer 1: 0.06014313\n",
      "Amount of different weights in Layer 2: 21 / 32 (65.625%)\n",
      "Maximum Difference in Layer 2: 0.05274862\n",
      "Amount of different weights in Layer 3: 5122 / 9216 (55.57725694444444%)\n",
      "Maximum Difference in Layer 3: 0.10101916\n",
      "Amount of different weights in Layer 4: 24 / 32 (75.0%)\n",
      "Maximum Difference in Layer 4: 0.031778097\n",
      "Amount of different weights in Layer 5: 12950 / 25600 (50.5859375%)\n",
      "Maximum Difference in Layer 5: 0.03705373\n",
      "Amount of different weights in Layer 6: 20 / 32 (62.5%)\n",
      "Maximum Difference in Layer 6: 0.034717977\n",
      "Amount of different weights in Layer 7: 10769 / 18432 (58.425564236111114%)\n",
      "Maximum Difference in Layer 7: 0.07894109\n",
      "Amount of different weights in Layer 8: 38 / 64 (59.375%)\n",
      "Maximum Difference in Layer 8: 0.0325585\n",
      "Amount of different weights in Layer 9: 18543 / 36864 (50.301106770833336%)\n",
      "Maximum Difference in Layer 9: 0.060297444\n",
      "Amount of different weights in Layer 10: 41 / 64 (64.0625%)\n",
      "Maximum Difference in Layer 10: 0.030243158\n",
      "Amount of different weights in Layer 11: 47901 / 102400 (46.7783203125%)\n",
      "Maximum Difference in Layer 11: 0.05528845\n",
      "Amount of different weights in Layer 12: 42 / 64 (65.625%)\n",
      "Maximum Difference in Layer 12: 0.051140845\n",
      "Amount of different weights in Layer 13: 71525 / 131072 (54.569244384765625%)\n",
      "Maximum Difference in Layer 13: 0.043492038\n",
      "Amount of different weights in Layer 14: 74 / 128 (57.8125%)\n",
      "Maximum Difference in Layer 14: 0.0544343\n",
      "Amount of different weights in Layer 15: 735 / 1280 (57.421875%)\n",
      "Maximum Difference in Layer 15: 0.09569895\n"
     ]
    }
   ],
   "source": [
    "m1 = tf.keras.models.load_model('based_model') # Model trained on all mnist data\n",
    "m2 = tf.keras.models.load_model('sudden_drift_30000') # m1 trained with first 30000 mnist data with random noise\n",
    "m3 = tf.keras.models.load_model('new_trained') # Model trained with all mnist data and first 30000 mnist data with random noise\n",
    "\n",
    "weights_diff(m1, m2)\n",
    "print(\"----------------------------------\")\n",
    "weights_diff(m2, m3)\n",
    "print(\"----------------------------------\")\n",
    "weights_diff(m3, m1)"
   ]
  },
  {
   "cell_type": "code",
   "execution_count": 7,
   "metadata": {},
   "outputs": [
    {
     "name": "stdout",
     "output_type": "stream",
     "text": [
      "Amount of different weights in Layer 1: 70 / 288 (24.305555555555554%)\n",
      "Maximum Difference in Layer 1: 0.012422748\n",
      "Amount of different weights in Layer 2: 9 / 32 (28.125%)\n",
      "Maximum Difference in Layer 2: 0.021133542\n",
      "Amount of different weights in Layer 3: 1149 / 9216 (12.467447916666668%)\n",
      "Maximum Difference in Layer 3: 0.011451639\n",
      "Amount of different weights in Layer 4: 5 / 32 (15.625%)\n",
      "Maximum Difference in Layer 4: 0.015349984\n",
      "Amount of different weights in Layer 5: 1623 / 25600 (6.33984375%)\n",
      "Maximum Difference in Layer 5: 0.021831749\n",
      "Amount of different weights in Layer 6: 5 / 32 (15.625%)\n",
      "Maximum Difference in Layer 6: 0.0151234865\n",
      "Amount of different weights in Layer 7: 970 / 18432 (5.262586805555555%)\n",
      "Maximum Difference in Layer 7: 0.02005937\n",
      "Amount of different weights in Layer 8: 4 / 64 (6.25%)\n",
      "Maximum Difference in Layer 8: 0.013016164\n",
      "Amount of different weights in Layer 9: 1010 / 36864 (2.7398003472222223%)\n",
      "Maximum Difference in Layer 9: 0.023332352\n",
      "Amount of different weights in Layer 10: 2 / 64 (3.125%)\n",
      "Maximum Difference in Layer 10: -0.013607323\n",
      "Amount of different weights in Layer 11: 2032 / 102400 (1.984375%)\n",
      "Maximum Difference in Layer 11: 0.019858966\n",
      "Amount of different weights in Layer 12: 2 / 64 (3.125%)\n",
      "Maximum Difference in Layer 12: -0.016863227\n",
      "Amount of different weights in Layer 13: 3956 / 131072 (3.0181884765625%)\n",
      "Maximum Difference in Layer 13: 0.02137218\n",
      "Amount of different weights in Layer 14: 28 / 128 (21.875%)\n",
      "Maximum Difference in Layer 14: -0.014546037\n",
      "Amount of different weights in Layer 15: 83 / 1280 (6.484375000000001%)\n",
      "Maximum Difference in Layer 15: 0.017652519\n"
     ]
    }
   ],
   "source": [
    "k1 = tf.keras.models.load_model('half_normal') # Model trained on first 30000 mnist data\n",
    "k2 = tf.keras.models.load_model('half_normal_added_10k_mix') # m1 trained with mnist data [30000:35000] + noise(mnist data[:5000])\n",
    "\n",
    "weights_diff(k1, k2)"
   ]
  },
  {
   "cell_type": "code",
   "execution_count": 9,
   "metadata": {},
   "outputs": [
    {
     "name": "stdout",
     "output_type": "stream",
     "text": [
      "Model: \"sequential_4\"\n",
      "_________________________________________________________________\n",
      "Layer (type)                 Output Shape              Param #   \n",
      "=================================================================\n",
      "conv2d_27 (Conv2D)           (None, 26, 26, 32)        320       \n",
      "_________________________________________________________________\n",
      "batch_normalization_7 (Batch (None, 26, 26, 32)        128       \n",
      "_________________________________________________________________\n",
      "conv2d_28 (Conv2D)           (None, 24, 24, 32)        9248      \n",
      "_________________________________________________________________\n",
      "batch_normalization_8 (Batch (None, 24, 24, 32)        128       \n",
      "_________________________________________________________________\n",
      "conv2d_29 (Conv2D)           (None, 12, 12, 32)        25632     \n",
      "_________________________________________________________________\n",
      "batch_normalization_9 (Batch (None, 12, 12, 32)        128       \n",
      "_________________________________________________________________\n",
      "dropout_18 (Dropout)         (None, 12, 12, 32)        0         \n",
      "_________________________________________________________________\n",
      "conv2d_30 (Conv2D)           (None, 10, 10, 64)        18496     \n",
      "_________________________________________________________________\n",
      "batch_normalization_10 (Batc (None, 10, 10, 64)        256       \n",
      "_________________________________________________________________\n",
      "conv2d_31 (Conv2D)           (None, 8, 8, 64)          36928     \n",
      "_________________________________________________________________\n",
      "batch_normalization_11 (Batc (None, 8, 8, 64)          256       \n",
      "_________________________________________________________________\n",
      "conv2d_32 (Conv2D)           (None, 4, 4, 64)          102464    \n",
      "_________________________________________________________________\n",
      "batch_normalization_12 (Batc (None, 4, 4, 64)          256       \n",
      "_________________________________________________________________\n",
      "dropout_19 (Dropout)         (None, 4, 4, 64)          0         \n",
      "_________________________________________________________________\n",
      "flatten_6 (Flatten)          (None, 1024)              0         \n",
      "_________________________________________________________________\n",
      "dense_12 (Dense)             (None, 128)               131200    \n",
      "_________________________________________________________________\n",
      "batch_normalization_13 (Batc (None, 128)               512       \n",
      "_________________________________________________________________\n",
      "dropout_20 (Dropout)         (None, 128)               0         \n",
      "_________________________________________________________________\n",
      "dense_13 (Dense)             (None, 10)                1290      \n",
      "=================================================================\n",
      "Total params: 327,242\n",
      "Trainable params: 326,410\n",
      "Non-trainable params: 832\n",
      "_________________________________________________________________\n"
     ]
    }
   ],
   "source": [
    "m1.summary()"
   ]
  },
  {
   "cell_type": "code",
   "execution_count": 10,
   "metadata": {},
   "outputs": [],
   "source": [
    "# Visualizing difference between k1 and k2 layer with 204800 params\n",
    "\n",
    "k1 = tf.keras.models.load_model('half_normal') # Model trained on first 30000 mnist data\n",
    "k2 = tf.keras.models.load_model('half_normal_added_10k_mix') # m1 trained with mnist data [30000:35000] + noise(mnist data[:5000])\n",
    "\n",
    "w1 = k1.layers[15].get_weights()[0].reshape(-1,128)\n",
    "w2 = k2.layers[15].get_weights()[0].reshape(-1,128)"
   ]
  },
  {
   "cell_type": "code",
   "execution_count": 11,
   "metadata": {},
   "outputs": [],
   "source": [
    "import numpy as np\n",
    "\n",
    "diff = np.abs(w1-w2)"
   ]
  },
  {
   "cell_type": "code",
   "execution_count": 12,
   "metadata": {},
   "outputs": [
    {
     "data": {
      "image/png": "[encoded data removed]",
      "text/plain": [
       "<Figure size 432x288 with 2 Axes>"
      ]
     },
     "metadata": {
      "needs_background": "light"
     },
     "output_type": "display_data"
    }
   ],
   "source": [
    "import matplotlib.pyplot as plt\n",
    "\n",
    "plt.imshow(diff.T, cmap='hot', interpolation='nearest')\n",
    "plt.colorbar()\n",
    "plt.show()"
   ]
  },
  {
   "cell_type": "code",
   "execution_count": null,
   "metadata": {},
   "outputs": [],
   "source": []
  }
 ],
 "metadata": {
  "kernelspec": {
   "display_name": "Python 3",
   "language": "python",
   "name": "python3"
  },
  "language_info": {
   "codemirror_mode": {
    "name": "ipython",
    "version": 3
   },
   "file_extension": ".py",
   "mimetype": "text/x-python",
   "name": "python",
   "nbconvert_exporter": "python",
   "pygments_lexer": "ipython3",
   "version": "3.8.6"
  }
 },
 "nbformat": 4,
 "nbformat_minor": 4
}
