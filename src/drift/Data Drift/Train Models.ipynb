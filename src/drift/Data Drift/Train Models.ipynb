{
 "cells": [
  {
   "cell_type": "code",
   "execution_count": 105,
   "metadata": {},
   "outputs": [],
   "source": [
    "import pandas as pd\n",
    "import numpy as np\n",
    "import matplotlib.pyplot as plt\n",
    "\n",
    "from sklearn.model_selection import train_test_split\n",
    "from keras.utils.np_utils import to_categorical\n",
    "\n",
    "from tensorflow.keras.models import Sequential\n",
    "from tensorflow.keras.layers import Dense\n",
    "from tensorflow.keras.layers import Dropout, Flatten, Activation, BatchNormalization\n",
    "from tensorflow.keras.layers import Conv2D, MaxPooling2D\n",
    "from keras.optimizers import Adam\n",
    "from keras.callbacks import ReduceLROnPlateau, LearningRateScheduler\n",
    "from keras.preprocessing.image import ImageDataGenerator\n",
    "import tensorflow as tf\n",
    "\n",
    "from tensorflow.keras.datasets import mnist\n",
    "import keras"
   ]
  },
  {
   "cell_type": "code",
   "execution_count": 106,
   "metadata": {},
   "outputs": [],
   "source": [
    "# Generate the train and test sets\n",
    "(x_train, y_train), (x_test, y_test) = mnist.load_data()\n",
    "y_train = keras.utils.to_categorical(y_train)\n",
    "y_test = keras.utils.to_categorical(y_test)\n",
    " \n",
    "x_train = x_train.astype('float32') / 255.\n",
    "x_test = x_test.astype('float32') / 255.\n",
    "x_train = np.reshape(x_train, (len(x_train), 28, 28, 1))\n",
    "x_test = np.reshape(x_test, (len(x_test), 28, 28, 1))\n",
    " \n",
    "# Generate some noisy data\n",
    "noise_factor = 0.5\n",
    "x_train_noisy = x_train + noise_factor * np.random.normal(loc=0.0, scale=1.0, size=x_train.shape)\n",
    "x_test_noisy = x_test + noise_factor * np.random.normal(loc=0.0, scale=1.0, size=x_test.shape)\n",
    " \n",
    "x_train_noisy = np.clip(x_train_noisy, 0., 1.)\n",
    "x_test_noisy = np.clip(x_test_noisy, 0., 1.)"
   ]
  },
  {
   "cell_type": "code",
   "execution_count": 107,
   "metadata": {},
   "outputs": [],
   "source": [
    "def make_model():\n",
    "    model = Sequential()\n",
    "\n",
    "    model.add(Conv2D(32,kernel_size=3,activation='relu',input_shape=(28,28,1)))\n",
    "    model.add(BatchNormalization())\n",
    "    model.add(Conv2D(32,kernel_size=3,activation='relu'))\n",
    "    model.add(BatchNormalization())\n",
    "    model.add(Conv2D(32,kernel_size=5,strides=2,padding='same',activation='relu'))\n",
    "    model.add(BatchNormalization())\n",
    "    model.add(Dropout(0.4))\n",
    "\n",
    "    model.add(Conv2D(64,kernel_size=3,activation='relu'))\n",
    "    model.add(BatchNormalization())\n",
    "    model.add(Conv2D(64,kernel_size=3,activation='relu'))\n",
    "    model.add(BatchNormalization())\n",
    "    model.add(Conv2D(64,kernel_size=5,strides=2,padding='same',activation='relu'))\n",
    "    model.add(BatchNormalization())\n",
    "    model.add(Dropout(0.4))\n",
    "\n",
    "    model.add(Flatten())\n",
    "    model.add(Dense(128, activation='relu'))\n",
    "    model.add(BatchNormalization())\n",
    "    model.add(Dropout(0.4))\n",
    "    model.add(Dense(10, activation='softmax'))\n",
    "\n",
    "    model.compile(optimizer=\"adam\", loss=\"categorical_crossentropy\", metrics=[\"accuracy\"])\n",
    "\n",
    "    return model\n",
    "\n",
    "def train_model(model, x_train, y_train):\n",
    "    epochs = 45\n",
    "    annealer = LearningRateScheduler(lambda x: 1e-3 * 0.95 ** (x+epochs))\n",
    "    model.fit(x_train, y_train, batch_size=64, epochs = epochs, steps_per_epoch = x_train.shape[0]//64, callbacks=[annealer])"
   ]
  },
  {
   "cell_type": "code",
   "execution_count": 108,
   "metadata": {},
   "outputs": [
    {
     "name": "stdout",
     "output_type": "stream",
     "text": [
      "INFO:tensorflow:Assets written to: base_model/assets\n"
     ]
    }
   ],
   "source": [
    "model = make_model()\n",
    "model.save('base_model')"
   ]
  },
  {
   "cell_type": "code",
   "execution_count": 109,
   "metadata": {},
   "outputs": [
    {
     "name": "stdout",
     "output_type": "stream",
     "text": [
      "Epoch 1/45\n",
      "937/937 [==============================] - 99s 106ms/step - loss: 0.7787 - accuracy: 0.7607\n",
      "Epoch 2/45\n",
      "937/937 [==============================] - 107s 114ms/step - loss: 0.1907 - accuracy: 0.9422\n",
      "Epoch 3/45\n",
      "937/937 [==============================] - 115s 123ms/step - loss: 0.1187 - accuracy: 0.9645\n",
      "Epoch 4/45\n",
      "937/937 [==============================] - 101s 108ms/step - loss: 0.0873 - accuracy: 0.9737\n",
      "Epoch 5/45\n",
      "937/937 [==============================] - 105s 112ms/step - loss: 0.0709 - accuracy: 0.9785\n",
      "Epoch 6/45\n",
      "937/937 [==============================] - 105s 112ms/step - loss: 0.0569 - accuracy: 0.9831\n",
      "Epoch 7/45\n",
      "937/937 [==============================] - 102s 109ms/step - loss: 0.0507 - accuracy: 0.9851\n",
      "Epoch 8/45\n",
      "937/937 [==============================] - 103s 110ms/step - loss: 0.0447 - accuracy: 0.9864\n",
      "Epoch 9/45\n",
      "937/937 [==============================] - 104s 110ms/step - loss: 0.0407 - accuracy: 0.9878\n",
      "Epoch 10/45\n",
      "937/937 [==============================] - 106s 113ms/step - loss: 0.0369 - accuracy: 0.9889\n",
      "Epoch 11/45\n",
      "937/937 [==============================] - 97s 103ms/step - loss: 0.0323 - accuracy: 0.9902\n",
      "Epoch 12/45\n",
      "937/937 [==============================] - 95s 102ms/step - loss: 0.0302 - accuracy: 0.9905\n",
      "Epoch 13/45\n",
      "937/937 [==============================] - 102s 109ms/step - loss: 0.0279 - accuracy: 0.9914\n",
      "Epoch 14/45\n",
      "937/937 [==============================] - 104s 111ms/step - loss: 0.0266 - accuracy: 0.9917\n",
      "Epoch 15/45\n",
      "937/937 [==============================] - 103s 109ms/step - loss: 0.0243 - accuracy: 0.9930\n",
      "Epoch 16/45\n",
      "937/937 [==============================] - 98s 104ms/step - loss: 0.0238 - accuracy: 0.9925\n",
      "Epoch 17/45\n",
      "937/937 [==============================] - 98s 105ms/step - loss: 0.0216 - accuracy: 0.9935\n",
      "Epoch 18/45\n",
      "937/937 [==============================] - 104s 111ms/step - loss: 0.0215 - accuracy: 0.9933\n",
      "Epoch 19/45\n",
      "937/937 [==============================] - 103s 110ms/step - loss: 0.0196 - accuracy: 0.9941\n",
      "Epoch 20/45\n",
      "937/937 [==============================] - 96s 102ms/step - loss: 0.0196 - accuracy: 0.9938\n",
      "Epoch 21/45\n",
      "937/937 [==============================] - 102s 109ms/step - loss: 0.0195 - accuracy: 0.9941\n",
      "Epoch 22/45\n",
      "937/937 [==============================] - 99s 106ms/step - loss: 0.0178 - accuracy: 0.9946\n",
      "Epoch 23/45\n",
      "937/937 [==============================] - 100s 106ms/step - loss: 0.0164 - accuracy: 0.9951\n",
      "Epoch 24/45\n",
      "937/937 [==============================] - 101s 107ms/step - loss: 0.0173 - accuracy: 0.9945\n",
      "Epoch 25/45\n",
      "937/937 [==============================] - 95s 102ms/step - loss: 0.0153 - accuracy: 0.9952\n",
      "Epoch 26/45\n",
      "937/937 [==============================] - 87s 93ms/step - loss: 0.0145 - accuracy: 0.9957\n",
      "Epoch 27/45\n",
      "937/937 [==============================] - 86s 91ms/step - loss: 0.0155 - accuracy: 0.9953\n",
      "Epoch 28/45\n",
      "937/937 [==============================] - 86s 91ms/step - loss: 0.0144 - accuracy: 0.9956\n",
      "Epoch 29/45\n",
      "937/937 [==============================] - 85s 91ms/step - loss: 0.0136 - accuracy: 0.9959\n",
      "Epoch 30/45\n",
      "937/937 [==============================] - 85s 91ms/step - loss: 0.0128 - accuracy: 0.9961\n",
      "Epoch 31/45\n",
      "937/937 [==============================] - 85s 91ms/step - loss: 0.0126 - accuracy: 0.9959\n",
      "Epoch 32/45\n",
      "937/937 [==============================] - 87s 93ms/step - loss: 0.0127 - accuracy: 0.9962\n",
      "Epoch 33/45\n",
      "937/937 [==============================] - 96s 102ms/step - loss: 0.0125 - accuracy: 0.9961\n",
      "Epoch 34/45\n",
      "937/937 [==============================] - 96s 102ms/step - loss: 0.0120 - accuracy: 0.9965\n",
      "Epoch 35/45\n",
      "937/937 [==============================] - 94s 100ms/step - loss: 0.0123 - accuracy: 0.9963\n",
      "Epoch 36/45\n",
      "937/937 [==============================] - 86s 92ms/step - loss: 0.0117 - accuracy: 0.9966\n",
      "Epoch 37/45\n",
      "937/937 [==============================] - 86s 92ms/step - loss: 0.0104 - accuracy: 0.9966\n",
      "Epoch 38/45\n",
      "937/937 [==============================] - 87s 92ms/step - loss: 0.0114 - accuracy: 0.9965\n",
      "Epoch 39/45\n",
      "937/937 [==============================] - 88s 94ms/step - loss: 0.0099 - accuracy: 0.9968\n",
      "Epoch 40/45\n",
      "937/937 [==============================] - 87s 93ms/step - loss: 0.0113 - accuracy: 0.9969\n",
      "Epoch 41/45\n",
      "937/937 [==============================] - 87s 93ms/step - loss: 0.0100 - accuracy: 0.9972\n",
      "Epoch 42/45\n",
      "937/937 [==============================] - 87s 93ms/step - loss: 0.0103 - accuracy: 0.9967\n",
      "Epoch 43/45\n",
      "937/937 [==============================] - 87s 93ms/step - loss: 0.0098 - accuracy: 0.9970\n",
      "Epoch 44/45\n",
      "937/937 [==============================] - 87s 93ms/step - loss: 0.0094 - accuracy: 0.9971\n",
      "Epoch 45/45\n",
      "937/937 [==============================] - 87s 93ms/step - loss: 0.0094 - accuracy: 0.9971\n"
     ]
    }
   ],
   "source": [
    "m1 = tf.keras.models.load_model('base_model')\n",
    "train_model(m1, x_train, y_train)"
   ]
  },
  {
   "cell_type": "code",
   "execution_count": 110,
   "metadata": {},
   "outputs": [
    {
     "name": "stdout",
     "output_type": "stream",
     "text": [
      "INFO:tensorflow:Assets written to: based_model/assets\n"
     ]
    }
   ],
   "source": [
    "m1.save('based_model')"
   ]
  },
  {
   "cell_type": "code",
   "execution_count": 111,
   "metadata": {},
   "outputs": [
    {
     "name": "stdout",
     "output_type": "stream",
     "text": [
      "313/313 [==============================] - 3s 10ms/step - loss: 0.0138 - accuracy: 0.9962\n",
      "313/313 [==============================] - 3s 10ms/step - loss: 7.3875 - accuracy: 0.1158\n"
     ]
    }
   ],
   "source": [
    "results = m1.evaluate(x_test, y_test)\n",
    "results = m1.evaluate(x_test_noisy, y_test)"
   ]
  },
  {
   "cell_type": "code",
   "execution_count": 112,
   "metadata": {},
   "outputs": [
    {
     "name": "stdout",
     "output_type": "stream",
     "text": [
      "Epoch 1/45\n",
      "468/468 [==============================] - 43s 92ms/step - loss: 0.2437 - accuracy: 0.9297\n",
      "Epoch 2/45\n",
      "468/468 [==============================] - 43s 92ms/step - loss: 0.1480 - accuracy: 0.9534\n",
      "Epoch 3/45\n",
      "468/468 [==============================] - 43s 92ms/step - loss: 0.1215 - accuracy: 0.9615\n",
      "Epoch 4/45\n",
      "468/468 [==============================] - 43s 92ms/step - loss: 0.1080 - accuracy: 0.9659\n",
      "Epoch 5/45\n",
      "468/468 [==============================] - 43s 92ms/step - loss: 0.1021 - accuracy: 0.9673\n",
      "Epoch 6/45\n",
      "468/468 [==============================] - 43s 92ms/step - loss: 0.0909 - accuracy: 0.9700\n",
      "Epoch 7/45\n",
      "468/468 [==============================] - 43s 92ms/step - loss: 0.0877 - accuracy: 0.9707\n",
      "Epoch 8/45\n",
      "468/468 [==============================] - 43s 92ms/step - loss: 0.0791 - accuracy: 0.9747\n",
      "Epoch 9/45\n",
      "468/468 [==============================] - 43s 91ms/step - loss: 0.0786 - accuracy: 0.9745\n",
      "Epoch 10/45\n",
      "468/468 [==============================] - 43s 91ms/step - loss: 0.0717 - accuracy: 0.9764\n",
      "Epoch 11/45\n",
      "468/468 [==============================] - 43s 92ms/step - loss: 0.0702 - accuracy: 0.9763\n",
      "Epoch 12/45\n",
      "468/468 [==============================] - 43s 92ms/step - loss: 0.0664 - accuracy: 0.9771\n",
      "Epoch 13/45\n",
      "468/468 [==============================] - 43s 92ms/step - loss: 0.0593 - accuracy: 0.9800\n",
      "Epoch 14/45\n",
      "468/468 [==============================] - 43s 92ms/step - loss: 0.0570 - accuracy: 0.9807\n",
      "Epoch 15/45\n",
      "468/468 [==============================] - 43s 92ms/step - loss: 0.0573 - accuracy: 0.9812\n",
      "Epoch 16/45\n",
      "468/468 [==============================] - 43s 92ms/step - loss: 0.0529 - accuracy: 0.9822\n",
      "Epoch 17/45\n",
      "468/468 [==============================] - 43s 92ms/step - loss: 0.0515 - accuracy: 0.9828\n",
      "Epoch 18/45\n",
      "468/468 [==============================] - 43s 92ms/step - loss: 0.0520 - accuracy: 0.9825\n",
      "Epoch 19/45\n",
      "468/468 [==============================] - 43s 92ms/step - loss: 0.0443 - accuracy: 0.9857\n",
      "Epoch 20/45\n",
      "468/468 [==============================] - 43s 93ms/step - loss: 0.0469 - accuracy: 0.9837\n",
      "Epoch 21/45\n",
      "468/468 [==============================] - 43s 92ms/step - loss: 0.0476 - accuracy: 0.9838\n",
      "Epoch 22/45\n",
      "468/468 [==============================] - 43s 93ms/step - loss: 0.0433 - accuracy: 0.9853\n",
      "Epoch 23/45\n",
      "468/468 [==============================] - 43s 92ms/step - loss: 0.0403 - accuracy: 0.9867\n",
      "Epoch 24/45\n",
      "468/468 [==============================] - 43s 92ms/step - loss: 0.0414 - accuracy: 0.9863\n",
      "Epoch 25/45\n",
      "468/468 [==============================] - 43s 92ms/step - loss: 0.0389 - accuracy: 0.9863\n",
      "Epoch 26/45\n",
      "468/468 [==============================] - 43s 92ms/step - loss: 0.0396 - accuracy: 0.9864\n",
      "Epoch 27/45\n",
      "468/468 [==============================] - 43s 93ms/step - loss: 0.0387 - accuracy: 0.9870\n",
      "Epoch 28/45\n",
      "468/468 [==============================] - 44s 93ms/step - loss: 0.0398 - accuracy: 0.9872\n",
      "Epoch 29/45\n",
      "468/468 [==============================] - 43s 93ms/step - loss: 0.0366 - accuracy: 0.9873\n",
      "Epoch 30/45\n",
      "468/468 [==============================] - ETA: 0s - loss: 0.0360 - accuracy: 0.98 - 44s 93ms/step - loss: 0.0360 - accuracy: 0.9877\n",
      "Epoch 31/45\n",
      "468/468 [==============================] - 43s 93ms/step - loss: 0.0357 - accuracy: 0.9876\n",
      "Epoch 32/45\n",
      "468/468 [==============================] - 43s 93ms/step - loss: 0.0352 - accuracy: 0.9876\n",
      "Epoch 33/45\n",
      "468/468 [==============================] - 43s 93ms/step - loss: 0.0324 - accuracy: 0.9890\n",
      "Epoch 34/45\n",
      "468/468 [==============================] - 43s 93ms/step - loss: 0.0342 - accuracy: 0.9884\n",
      "Epoch 35/45\n",
      "468/468 [==============================] - 43s 93ms/step - loss: 0.0317 - accuracy: 0.9896\n",
      "Epoch 36/45\n",
      "468/468 [==============================] - 43s 93ms/step - loss: 0.0328 - accuracy: 0.9890\n",
      "Epoch 37/45\n",
      "468/468 [==============================] - 43s 92ms/step - loss: 0.0321 - accuracy: 0.9895\n",
      "Epoch 38/45\n",
      "468/468 [==============================] - 43s 92ms/step - loss: 0.0320 - accuracy: 0.9896\n",
      "Epoch 39/45\n",
      "468/468 [==============================] - 43s 92ms/step - loss: 0.0303 - accuracy: 0.9902\n",
      "Epoch 40/45\n",
      "468/468 [==============================] - 43s 92ms/step - loss: 0.0311 - accuracy: 0.9895\n",
      "Epoch 41/45\n",
      "468/468 [==============================] - 43s 92ms/step - loss: 0.0296 - accuracy: 0.9906\n",
      "Epoch 42/45\n",
      "468/468 [==============================] - 43s 92ms/step - loss: 0.0293 - accuracy: 0.9903\n",
      "Epoch 43/45\n",
      "468/468 [==============================] - 43s 92ms/step - loss: 0.0284 - accuracy: 0.9906\n",
      "Epoch 44/45\n",
      "468/468 [==============================] - 43s 92ms/step - loss: 0.0307 - accuracy: 0.9900\n",
      "Epoch 45/45\n",
      "468/468 [==============================] - 43s 92ms/step - loss: 0.0291 - accuracy: 0.9903\n"
     ]
    }
   ],
   "source": [
    "m2 = tf.keras.models.load_model('based_model')\n",
    "train_model(m2, x_train_noisy[:30000], y_train[:30000])"
   ]
  },
  {
   "cell_type": "code",
   "execution_count": 113,
   "metadata": {},
   "outputs": [
    {
     "name": "stdout",
     "output_type": "stream",
     "text": [
      "313/313 [==============================] - 3s 11ms/step - loss: 0.0306 - accuracy: 0.9926\n",
      "313/313 [==============================] - 3s 11ms/step - loss: 0.0724 - accuracy: 0.9794\n"
     ]
    }
   ],
   "source": [
    "results = m2.evaluate(x_test, y_test)\n",
    "results = m2.evaluate(x_test_noisy, y_test)"
   ]
  },
  {
   "cell_type": "code",
   "execution_count": 114,
   "metadata": {},
   "outputs": [
    {
     "name": "stdout",
     "output_type": "stream",
     "text": [
      "INFO:tensorflow:Assets written to: sudden_drift_30000/assets\n"
     ]
    }
   ],
   "source": [
    "m2.save('sudden_drift_30000')"
   ]
  },
  {
   "cell_type": "code",
   "execution_count": 115,
   "metadata": {},
   "outputs": [
    {
     "name": "stdout",
     "output_type": "stream",
     "text": [
      "Epoch 1/45\n",
      "1406/1406 [==============================] - 130s 92ms/step - loss: 0.7953 - accuracy: 0.7538\n",
      "Epoch 2/45\n",
      "1406/1406 [==============================] - 131s 93ms/step - loss: 0.2226 - accuracy: 0.9302\n",
      "Epoch 3/45\n",
      "1406/1406 [==============================] - 131s 93ms/step - loss: 0.1455 - accuracy: 0.9550\n",
      "Epoch 4/45\n",
      "1406/1406 [==============================] - 131s 93ms/step - loss: 0.1109 - accuracy: 0.9657\n",
      "Epoch 5/45\n",
      "1406/1406 [==============================] - 131s 93ms/step - loss: 0.0933 - accuracy: 0.9716\n",
      "Epoch 6/45\n",
      "1406/1406 [==============================] - 131s 93ms/step - loss: 0.0806 - accuracy: 0.9750\n",
      "Epoch 7/45\n",
      "1406/1406 [==============================] - 130s 93ms/step - loss: 0.0697 - accuracy: 0.9788\n",
      "Epoch 8/45\n",
      "1406/1406 [==============================] - 131s 93ms/step - loss: 0.0641 - accuracy: 0.9802\n",
      "Epoch 9/45\n",
      "1406/1406 [==============================] - 129s 92ms/step - loss: 0.0587 - accuracy: 0.9818\n",
      "Epoch 10/45\n",
      "1406/1406 [==============================] - 129s 92ms/step - loss: 0.0540 - accuracy: 0.9832\n",
      "Epoch 11/45\n",
      "1406/1406 [==============================] - 129s 92ms/step - loss: 0.0517 - accuracy: 0.9837\n",
      "Epoch 12/45\n",
      "1406/1406 [==============================] - 129s 92ms/step - loss: 0.0490 - accuracy: 0.9844\n",
      "Epoch 13/45\n",
      "1406/1406 [==============================] - 130s 92ms/step - loss: 0.0444 - accuracy: 0.9856\n",
      "Epoch 14/45\n",
      "1406/1406 [==============================] - 130s 92ms/step - loss: 0.0428 - accuracy: 0.9866\n",
      "Epoch 15/45\n",
      "1406/1406 [==============================] - 130s 92ms/step - loss: 0.0407 - accuracy: 0.9872\n",
      "Epoch 16/45\n",
      "1406/1406 [==============================] - 129s 92ms/step - loss: 0.0396 - accuracy: 0.9871\n",
      "Epoch 17/45\n",
      "1406/1406 [==============================] - 129s 92ms/step - loss: 0.0360 - accuracy: 0.9888\n",
      "Epoch 18/45\n",
      "1406/1406 [==============================] - 129s 92ms/step - loss: 0.0357 - accuracy: 0.9884\n",
      "Epoch 19/45\n",
      "1406/1406 [==============================] - 128s 91ms/step - loss: 0.0346 - accuracy: 0.9891\n",
      "Epoch 20/45\n",
      "1406/1406 [==============================] - 129s 92ms/step - loss: 0.0331 - accuracy: 0.9893\n",
      "Epoch 21/45\n",
      "1406/1406 [==============================] - 129s 91ms/step - loss: 0.0325 - accuracy: 0.9898\n",
      "Epoch 22/45\n",
      "1406/1406 [==============================] - 129s 91ms/step - loss: 0.0305 - accuracy: 0.9905\n",
      "Epoch 23/45\n",
      "1406/1406 [==============================] - 129s 92ms/step - loss: 0.0290 - accuracy: 0.9908\n",
      "Epoch 24/45\n",
      "1406/1406 [==============================] - 129s 92ms/step - loss: 0.0279 - accuracy: 0.9912\n",
      "Epoch 25/45\n",
      "1406/1406 [==============================] - 129s 92ms/step - loss: 0.0273 - accuracy: 0.9910\n",
      "Epoch 26/45\n",
      "1406/1406 [==============================] - 129s 92ms/step - loss: 0.0265 - accuracy: 0.9918\n",
      "Epoch 27/45\n",
      "1406/1406 [==============================] - 129s 92ms/step - loss: 0.0264 - accuracy: 0.9912\n",
      "Epoch 28/45\n",
      "1406/1406 [==============================] - 129s 92ms/step - loss: 0.0253 - accuracy: 0.9918\n",
      "Epoch 29/45\n",
      "1406/1406 [==============================] - 129s 92ms/step - loss: 0.0238 - accuracy: 0.9922\n",
      "Epoch 30/45\n",
      "1406/1406 [==============================] - 128s 91ms/step - loss: 0.0236 - accuracy: 0.9921\n",
      "Epoch 31/45\n",
      "1406/1406 [==============================] - 128s 91ms/step - loss: 0.0228 - accuracy: 0.9925\n",
      "Epoch 32/45\n",
      "1406/1406 [==============================] - 128s 91ms/step - loss: 0.0235 - accuracy: 0.9924\n",
      "Epoch 33/45\n",
      "1406/1406 [==============================] - 127s 91ms/step - loss: 0.0225 - accuracy: 0.9926\n",
      "Epoch 34/45\n",
      "1406/1406 [==============================] - 129s 92ms/step - loss: 0.0210 - accuracy: 0.9932\n",
      "Epoch 35/45\n",
      "1406/1406 [==============================] - 129s 91ms/step - loss: 0.0212 - accuracy: 0.9930\n",
      "Epoch 36/45\n",
      "1406/1406 [==============================] - 130s 93ms/step - loss: 0.0207 - accuracy: 0.9934\n",
      "Epoch 37/45\n",
      "1406/1406 [==============================] - 129s 92ms/step - loss: 0.0204 - accuracy: 0.9933\n",
      "Epoch 38/45\n",
      "1406/1406 [==============================] - 129s 92ms/step - loss: 0.0195 - accuracy: 0.9935\n",
      "Epoch 39/45\n",
      "1406/1406 [==============================] - 129s 92ms/step - loss: 0.0192 - accuracy: 0.9938\n",
      "Epoch 40/45\n",
      "1406/1406 [==============================] - 129s 92ms/step - loss: 0.0188 - accuracy: 0.9938\n",
      "Epoch 41/45\n",
      "1406/1406 [==============================] - 128s 91ms/step - loss: 0.0191 - accuracy: 0.9937\n",
      "Epoch 42/45\n",
      "1406/1406 [==============================] - 128s 91ms/step - loss: 0.0177 - accuracy: 0.9943\n",
      "Epoch 43/45\n",
      "1406/1406 [==============================] - 128s 91ms/step - loss: 0.0184 - accuracy: 0.9941\n",
      "Epoch 44/45\n",
      "1406/1406 [==============================] - 128s 91ms/step - loss: 0.0179 - accuracy: 0.9942\n",
      "Epoch 45/45\n",
      "1406/1406 [==============================] - 128s 91ms/step - loss: 0.0175 - accuracy: 0.9946\n"
     ]
    }
   ],
   "source": [
    "m3 = tf.keras.models.load_model('base_model')\n",
    "train_model(m3, np.vstack((x_train, x_train_noisy[:30000])), np.vstack((y_train, y_train[:30000])))"
   ]
  },
  {
   "cell_type": "code",
   "execution_count": 116,
   "metadata": {},
   "outputs": [
    {
     "name": "stdout",
     "output_type": "stream",
     "text": [
      "INFO:tensorflow:Assets written to: new_trained/assets\n"
     ]
    }
   ],
   "source": [
    "m3.save('new_trained')"
   ]
  },
  {
   "cell_type": "code",
   "execution_count": 117,
   "metadata": {},
   "outputs": [
    {
     "name": "stdout",
     "output_type": "stream",
     "text": [
      "Epoch 1/45\n",
      "468/468 [==============================] - 42s 91ms/step - loss: 0.0180 - accuracy: 0.9943\n",
      "Epoch 2/45\n",
      "468/468 [==============================] - 42s 91ms/step - loss: 0.0152 - accuracy: 0.9955\n",
      "Epoch 3/45\n",
      "468/468 [==============================] - 43s 91ms/step - loss: 0.0139 - accuracy: 0.9955\n",
      "Epoch 4/45\n",
      "468/468 [==============================] - 43s 91ms/step - loss: 0.0123 - accuracy: 0.9960\n",
      "Epoch 5/45\n",
      "468/468 [==============================] - 43s 91ms/step - loss: 0.0126 - accuracy: 0.9958\n",
      "Epoch 6/45\n",
      "468/468 [==============================] - 43s 91ms/step - loss: 0.0105 - accuracy: 0.9966\n",
      "Epoch 7/45\n",
      "468/468 [==============================] - 43s 91ms/step - loss: 0.0106 - accuracy: 0.9966\n",
      "Epoch 8/45\n",
      "468/468 [==============================] - 43s 92ms/step - loss: 0.0097 - accuracy: 0.9966\n",
      "Epoch 9/45\n",
      "468/468 [==============================] - 43s 91ms/step - loss: 0.0085 - accuracy: 0.9975\n",
      "Epoch 10/45\n",
      "468/468 [==============================] - 43s 91ms/step - loss: 0.0080 - accuracy: 0.9974\n",
      "Epoch 11/45\n",
      "468/468 [==============================] - 43s 91ms/step - loss: 0.0082 - accuracy: 0.9974\n",
      "Epoch 12/45\n",
      "468/468 [==============================] - 43s 91ms/step - loss: 0.0074 - accuracy: 0.9976\n",
      "Epoch 13/45\n",
      "468/468 [==============================] - 42s 91ms/step - loss: 0.0074 - accuracy: 0.9980\n",
      "Epoch 14/45\n",
      "468/468 [==============================] - 43s 91ms/step - loss: 0.0062 - accuracy: 0.9980\n",
      "Epoch 15/45\n",
      "468/468 [==============================] - 43s 91ms/step - loss: 0.0057 - accuracy: 0.9982\n",
      "Epoch 16/45\n",
      "468/468 [==============================] - 42s 91ms/step - loss: 0.0064 - accuracy: 0.9982\n",
      "Epoch 17/45\n",
      "468/468 [==============================] - 43s 91ms/step - loss: 0.0065 - accuracy: 0.9978\n",
      "Epoch 18/45\n",
      "468/468 [==============================] - 42s 91ms/step - loss: 0.0056 - accuracy: 0.9983\n",
      "Epoch 19/45\n",
      "468/468 [==============================] - 43s 91ms/step - loss: 0.0049 - accuracy: 0.9985\n",
      "Epoch 20/45\n",
      "468/468 [==============================] - 42s 91ms/step - loss: 0.0054 - accuracy: 0.9986\n",
      "Epoch 21/45\n",
      "468/468 [==============================] - 43s 91ms/step - loss: 0.0039 - accuracy: 0.9989\n",
      "Epoch 22/45\n",
      "468/468 [==============================] - 42s 91ms/step - loss: 0.0043 - accuracy: 0.9986\n",
      "Epoch 23/45\n",
      "468/468 [==============================] - 42s 91ms/step - loss: 0.0049 - accuracy: 0.9987\n",
      "Epoch 24/45\n",
      "468/468 [==============================] - 43s 91ms/step - loss: 0.0035 - accuracy: 0.9991\n",
      "Epoch 25/45\n",
      "468/468 [==============================] - 42s 91ms/step - loss: 0.0043 - accuracy: 0.9988\n",
      "Epoch 26/45\n",
      "468/468 [==============================] - 43s 91ms/step - loss: 0.0035 - accuracy: 0.9993\n",
      "Epoch 27/45\n",
      "468/468 [==============================] - 43s 91ms/step - loss: 0.0036 - accuracy: 0.9992\n",
      "Epoch 28/45\n",
      "468/468 [==============================] - 43s 91ms/step - loss: 0.0038 - accuracy: 0.9989\n",
      "Epoch 29/45\n",
      "468/468 [==============================] - 43s 91ms/step - loss: 0.0041 - accuracy: 0.9989\n",
      "Epoch 30/45\n",
      "468/468 [==============================] - 43s 91ms/step - loss: 0.0035 - accuracy: 0.9990\n",
      "Epoch 31/45\n",
      "468/468 [==============================] - 43s 91ms/step - loss: 0.0029 - accuracy: 0.9994\n",
      "Epoch 32/45\n",
      "468/468 [==============================] - 43s 91ms/step - loss: 0.0029 - accuracy: 0.9993\n",
      "Epoch 33/45\n",
      "468/468 [==============================] - 43s 91ms/step - loss: 0.0024 - accuracy: 0.9996\n",
      "Epoch 34/45\n",
      "468/468 [==============================] - 43s 91ms/step - loss: 0.0029 - accuracy: 0.9993\n",
      "Epoch 35/45\n",
      "468/468 [==============================] - 43s 91ms/step - loss: 0.0029 - accuracy: 0.9993\n",
      "Epoch 36/45\n",
      "468/468 [==============================] - 44s 94ms/step - loss: 0.0029 - accuracy: 0.9992\n",
      "Epoch 37/45\n",
      "468/468 [==============================] - 43s 92ms/step - loss: 0.0030 - accuracy: 0.9992\n",
      "Epoch 38/45\n",
      "468/468 [==============================] - 43s 91ms/step - loss: 0.0029 - accuracy: 0.9991\n",
      "Epoch 39/45\n",
      "468/468 [==============================] - 43s 92ms/step - loss: 0.0034 - accuracy: 0.9988\n",
      "Epoch 40/45\n",
      "468/468 [==============================] - 43s 92ms/step - loss: 0.0029 - accuracy: 0.9991\n",
      "Epoch 41/45\n",
      "468/468 [==============================] - 43s 91ms/step - loss: 0.0024 - accuracy: 0.9995\n",
      "Epoch 42/45\n",
      "468/468 [==============================] - 43s 91ms/step - loss: 0.0024 - accuracy: 0.9993\n",
      "Epoch 43/45\n",
      "468/468 [==============================] - 43s 91ms/step - loss: 0.0023 - accuracy: 0.9994\n",
      "Epoch 44/45\n",
      "468/468 [==============================] - 43s 91ms/step - loss: 0.0028 - accuracy: 0.9990\n",
      "Epoch 45/45\n",
      "468/468 [==============================] - 42s 91ms/step - loss: 0.0020 - accuracy: 0.9996\n"
     ]
    }
   ],
   "source": [
    "k1 = tf.keras.models.load_model('based_model')\n",
    "train_model(m2, x_train[:30000], y_train[:30000])"
   ]
  },
  {
   "cell_type": "code",
   "execution_count": 118,
   "metadata": {},
   "outputs": [
    {
     "name": "stdout",
     "output_type": "stream",
     "text": [
      "INFO:tensorflow:Assets written to: half_normal/assets\n",
      "313/313 [==============================] - 3s 10ms/step - loss: 0.0138 - accuracy: 0.9962\n",
      "313/313 [==============================] - 3s 10ms/step - loss: 7.3875 - accuracy: 0.1158\n"
     ]
    }
   ],
   "source": [
    "k1.save(\"half_normal\")\n",
    "results = k1.evaluate(x_test, y_test)\n",
    "results = k1.evaluate(x_test_noisy, y_test)"
   ]
  },
  {
   "cell_type": "code",
   "execution_count": 119,
   "metadata": {},
   "outputs": [
    {
     "data": {
      "text/plain": [
       "(10000, 10)"
      ]
     },
     "execution_count": 119,
     "metadata": {},
     "output_type": "execute_result"
    }
   ],
   "source": [
    "x_gc_train = np.vstack((x_train[30000:35000], x_train_noisy[:5000]))\n",
    "y_gc_train = np.vstack((y_train[30000:35000], y_train[:5000]))\n",
    "\n",
    "idx = [i for i in range(len(x_gc_train))]\n",
    "np.random.shuffle(idx)\n",
    "\n",
    "x_gc_train = x_gc_train[idx]\n",
    "y_gc_train = y_gc_train[idx]\n",
    "\n",
    "x_gc_train.shape\n",
    "y_gc_train.shape"
   ]
  },
  {
   "cell_type": "code",
   "execution_count": 120,
   "metadata": {},
   "outputs": [
    {
     "name": "stdout",
     "output_type": "stream",
     "text": [
      "Epoch 1/45\n",
      "156/156 [==============================] - 14s 90ms/step - loss: 0.2241 - accuracy: 0.9329\n",
      "Epoch 2/45\n",
      "156/156 [==============================] - 14s 90ms/step - loss: 0.1129 - accuracy: 0.9648\n",
      "Epoch 3/45\n",
      "156/156 [==============================] - 14s 90ms/step - loss: 0.0949 - accuracy: 0.9699\n",
      "Epoch 4/45\n",
      "156/156 [==============================] - 14s 90ms/step - loss: 0.0805 - accuracy: 0.9721\n",
      "Epoch 5/45\n",
      "156/156 [==============================] - 14s 90ms/step - loss: 0.0669 - accuracy: 0.9801\n",
      "Epoch 6/45\n",
      "156/156 [==============================] - 14s 90ms/step - loss: 0.0674 - accuracy: 0.9770\n",
      "Epoch 7/45\n",
      "156/156 [==============================] - 14s 90ms/step - loss: 0.0622 - accuracy: 0.9786\n",
      "Epoch 8/45\n",
      "156/156 [==============================] - 14s 89ms/step - loss: 0.0564 - accuracy: 0.9814\n",
      "Epoch 9/45\n",
      "156/156 [==============================] - 14s 90ms/step - loss: 0.0522 - accuracy: 0.9814\n",
      "Epoch 10/45\n",
      "156/156 [==============================] - 14s 90ms/step - loss: 0.0502 - accuracy: 0.9843\n",
      "Epoch 11/45\n",
      "156/156 [==============================] - 14s 89ms/step - loss: 0.0398 - accuracy: 0.9868\n",
      "Epoch 12/45\n",
      "156/156 [==============================] - 14s 90ms/step - loss: 0.0403 - accuracy: 0.9860\n",
      "Epoch 13/45\n",
      "156/156 [==============================] - 14s 89ms/step - loss: 0.0437 - accuracy: 0.9852\n",
      "Epoch 14/45\n",
      "156/156 [==============================] - 14s 91ms/step - loss: 0.0385 - accuracy: 0.9865\n",
      "Epoch 15/45\n",
      "156/156 [==============================] - 14s 91ms/step - loss: 0.0373 - accuracy: 0.9868\n",
      "Epoch 16/45\n",
      "156/156 [==============================] - 14s 89ms/step - loss: 0.0324 - accuracy: 0.9893\n",
      "Epoch 17/45\n",
      "156/156 [==============================] - 14s 89ms/step - loss: 0.0311 - accuracy: 0.9899\n",
      "Epoch 18/45\n",
      "156/156 [==============================] - 14s 89ms/step - loss: 0.0309 - accuracy: 0.9904\n",
      "Epoch 19/45\n",
      "156/156 [==============================] - 14s 90ms/step - loss: 0.0291 - accuracy: 0.9905\n",
      "Epoch 20/45\n",
      "156/156 [==============================] - 14s 90ms/step - loss: 0.0285 - accuracy: 0.9914\n",
      "Epoch 21/45\n",
      "156/156 [==============================] - 14s 89ms/step - loss: 0.0255 - accuracy: 0.9914\n",
      "Epoch 22/45\n",
      "156/156 [==============================] - 14s 89ms/step - loss: 0.0295 - accuracy: 0.9892\n",
      "Epoch 23/45\n",
      "156/156 [==============================] - 14s 89ms/step - loss: 0.0257 - accuracy: 0.9909\n",
      "Epoch 24/45\n",
      "156/156 [==============================] - 14s 90ms/step - loss: 0.0249 - accuracy: 0.9918\n",
      "Epoch 25/45\n",
      "156/156 [==============================] - 14s 89ms/step - loss: 0.0259 - accuracy: 0.9918\n",
      "Epoch 26/45\n",
      "156/156 [==============================] - 14s 90ms/step - loss: 0.0231 - accuracy: 0.9930\n",
      "Epoch 27/45\n",
      "156/156 [==============================] - 14s 89ms/step - loss: 0.0239 - accuracy: 0.9917\n",
      "Epoch 28/45\n",
      "156/156 [==============================] - 14s 90ms/step - loss: 0.0233 - accuracy: 0.9925\n",
      "Epoch 29/45\n",
      "156/156 [==============================] - 14s 90ms/step - loss: 0.0223 - accuracy: 0.9936\n",
      "Epoch 30/45\n",
      "156/156 [==============================] - 14s 90ms/step - loss: 0.0193 - accuracy: 0.9941\n",
      "Epoch 31/45\n",
      "156/156 [==============================] - 14s 90ms/step - loss: 0.0200 - accuracy: 0.9937\n",
      "Epoch 32/45\n",
      "156/156 [==============================] - 14s 90ms/step - loss: 0.0192 - accuracy: 0.9945\n",
      "Epoch 33/45\n",
      "156/156 [==============================] - 14s 90ms/step - loss: 0.0205 - accuracy: 0.9937\n",
      "Epoch 34/45\n",
      "156/156 [==============================] - 14s 91ms/step - loss: 0.0180 - accuracy: 0.9948\n",
      "Epoch 35/45\n",
      "156/156 [==============================] - 15s 94ms/step - loss: 0.0190 - accuracy: 0.9942\n",
      "Epoch 36/45\n",
      "156/156 [==============================] - 14s 90ms/step - loss: 0.0170 - accuracy: 0.9946\n",
      "Epoch 37/45\n",
      "156/156 [==============================] - 14s 91ms/step - loss: 0.0180 - accuracy: 0.9947\n",
      "Epoch 38/45\n",
      "156/156 [==============================] - 14s 90ms/step - loss: 0.0188 - accuracy: 0.9949\n",
      "Epoch 39/45\n",
      "156/156 [==============================] - 14s 91ms/step - loss: 0.0166 - accuracy: 0.9951\n",
      "Epoch 40/45\n",
      "156/156 [==============================] - 14s 91ms/step - loss: 0.0182 - accuracy: 0.9950\n",
      "Epoch 41/45\n",
      "156/156 [==============================] - 14s 91ms/step - loss: 0.0167 - accuracy: 0.9951\n",
      "Epoch 42/45\n",
      "156/156 [==============================] - 14s 90ms/step - loss: 0.0174 - accuracy: 0.9942\n",
      "Epoch 43/45\n",
      "156/156 [==============================] - 14s 90ms/step - loss: 0.0177 - accuracy: 0.9948\n",
      "Epoch 44/45\n",
      "156/156 [==============================] - 14s 90ms/step - loss: 0.0140 - accuracy: 0.9961\n",
      "Epoch 45/45\n",
      "156/156 [==============================] - 14s 91ms/step - loss: 0.0150 - accuracy: 0.9957\n"
     ]
    }
   ],
   "source": [
    "train_model(k1, x_gc_train, y_gc_train)"
   ]
  },
  {
   "cell_type": "code",
   "execution_count": 121,
   "metadata": {},
   "outputs": [
    {
     "name": "stdout",
     "output_type": "stream",
     "text": [
      "INFO:tensorflow:Assets written to: half_normal_added_10k_mix/assets\n",
      "313/313 [==============================] - 3s 10ms/step - loss: 0.0249 - accuracy: 0.9930\n",
      "313/313 [==============================] - 3s 10ms/step - loss: 0.1092 - accuracy: 0.9710\n"
     ]
    }
   ],
   "source": [
    "k1.save(\"half_normal_added_10k_mix\")\n",
    "results = k1.evaluate(x_test, y_test)\n",
    "results = k1.evaluate(x_test_noisy, y_test)"
   ]
  },
  {
   "cell_type": "code",
   "execution_count": 78,
   "metadata": {},
   "outputs": [
    {
     "name": "stdout",
     "output_type": "stream",
     "text": [
      "313/313 [==============================] - 3s 9ms/step - loss: 0.0311 - accuracy: 0.9946\n",
      "313/313 [==============================] - 3s 10ms/step - loss: 1.4749 - accuracy: 0.5532\n",
      "313/313 [==============================] - 3s 10ms/step - loss: 0.0882 - accuracy: 0.9939\n",
      "313/313 [==============================] - 3s 10ms/step - loss: 0.1425 - accuracy: 0.9672\n"
     ]
    }
   ],
   "source": [
    "# Check how averaging layer 6 weights affects performance\n",
    "\n",
    "k1 = tf.keras.models.load_model('half_normal')\n",
    "k2 = tf.keras.models.load_model('half_normal_added_10k_mix')\n",
    "\n",
    "w1, b1 = k1.layers[6].get_weights()\n",
    "w2, b2 = k2.layers[6].get_weights()\n",
    "\n",
    "w3 = (w1+w2)/2\n",
    "\n",
    "k1.layers[6].set_weights([w3, b1])\n",
    "k2.layers[6].set_weights([w3, b2])\n",
    "\n",
    "results = k1.evaluate(x_test, y_test)\n",
    "results = k1.evaluate(x_test_noisy, y_test)\n",
    "\n",
    "results = k2.evaluate(x_test, y_test)\n",
    "results = k2.evaluate(x_test_noisy, y_test)"
   ]
  },
  {
   "cell_type": "code",
   "execution_count": 94,
   "metadata": {},
   "outputs": [],
   "source": [
    "from keras.models import Model\n",
    "import tensorflow as tf\n",
    "import numpy as np\n",
    "\n",
    "def get_fisher_info(model, raw_data, label_data):\n",
    "    y = model.output\n",
    "\n",
    "    row_idx = tf.range(tf.shape(y)[0])\n",
    "    col_idx = tf.argmax(y, axis=1, output_type=tf.dtypes.int32)\n",
    "    full_indices = tf.stack([row_idx, col_idx], axis=1)\n",
    "    fx_tensors = tf.gather_nd(y, full_indices)\n",
    "\n",
    "    x_tensors = model.trainable_weights\n",
    "\n",
    "    num_samples = 100\n",
    "    m = Model(inputs=model.input, outputs=fx_tensors)\n",
    "\n",
    "    fisher_information = []\n",
    "    for v in range(len(x_tensors)):\n",
    "        fisher_information.append(np.zeros(x_tensors[v].get_shape().as_list()).astype(np.float32))\n",
    "\n",
    "    for i in range(num_samples):\n",
    "        data_idx = np.random.randint(raw_data.shape[0])\n",
    "        sampled_data = raw_data[data_idx:data_idx+1]\n",
    "        sampled_input_variables = [ sampled_data ]\n",
    "#         print ('sample num: %4d, data_idx: %5d' % (i, data_idx))\n",
    "\n",
    "        with tf.GradientTape() as tape:\n",
    "            p = m(sampled_data)\n",
    "            lo = tf.math.log(p)\n",
    "\n",
    "        gradients = tape.gradient(lo, x_tensors)\n",
    "        derivatives = [g.numpy() for g in gradients]\n",
    "        prob = p.numpy()[0]\n",
    "        \n",
    "    #     derivatives, prob = sess.run([tf.gradients(tf.log(fx_tensors), x_tensors), fx_tensors],\n",
    "    #     feed_dict={t: v for t,v in zip(input_tensors, sampled_input_variables)})\n",
    "\n",
    "        for v in range(len(fisher_information)):\n",
    "            fisher_information[v] += np.square(derivatives[v]) * prob\n",
    "        \n",
    "    return fisher_information"
   ]
  },
  {
   "cell_type": "code",
   "execution_count": 95,
   "metadata": {},
   "outputs": [],
   "source": [
    "k1 = tf.keras.models.load_model('half_normal')\n",
    "k2 = tf.keras.models.load_model('half_normal_added_10k_mix')\n",
    "\n",
    "f1 = get_fisher_info(k1, x_train[:30000], y_train[:30000])\n",
    "f2 = get_fisher_info(k1, x_gc_train, y_gc_train)"
   ]
  },
  {
   "cell_type": "code",
   "execution_count": 96,
   "metadata": {},
   "outputs": [
    {
     "data": {
      "application/vnd.jupyter.widget-view+json": {
       "model_id": "180451221753413d98c77510a2a117e9",
       "version_major": 2,
       "version_minor": 0
      },
      "text/plain": [
       "Canvas(toolbar=Toolbar(toolitems=[('Home', 'Reset original view', 'home', 'home'), ('Back', 'Back to previous …"
      ]
     },
     "metadata": {},
     "output_type": "display_data"
    }
   ],
   "source": [
    "%matplotlib widget\n",
    "\n",
    "for i, arr in enumerate(f1):\n",
    "    plt.plot(arr.flatten(), label='layer {}'.format(i))\n",
    "plt.ylabel('some numbers')\n",
    "plt.legend(loc=\"upper right\")\n",
    "plt.show()"
   ]
  },
  {
   "cell_type": "code",
   "execution_count": 97,
   "metadata": {},
   "outputs": [
    {
     "data": {
      "application/vnd.jupyter.widget-view+json": {
       "model_id": "d513e61495dc4293aad04db1980f2503",
       "version_major": 2,
       "version_minor": 0
      },
      "text/plain": [
       "Canvas(toolbar=Toolbar(toolitems=[('Home', 'Reset original view', 'home', 'home'), ('Back', 'Back to previous …"
      ]
     },
     "metadata": {},
     "output_type": "display_data"
    }
   ],
   "source": [
    "%matplotlib widget\n",
    "\n",
    "for i, arr in enumerate(f2):\n",
    "    plt.plot(arr.flatten(), label='layer {}'.format(i))\n",
    "plt.ylabel('some numbers')\n",
    "plt.legend(loc=\"upper right\")\n",
    "plt.show()"
   ]
  },
  {
   "cell_type": "code",
   "execution_count": null,
   "metadata": {},
   "outputs": [],
   "source": []
  }
 ],
 "metadata": {
  "kernelspec": {
   "display_name": "Python 3",
   "language": "python",
   "name": "python3"
  },
  "language_info": {
   "codemirror_mode": {
    "name": "ipython",
    "version": 3
   },
   "file_extension": ".py",
   "mimetype": "text/x-python",
   "name": "python",
   "nbconvert_exporter": "python",
   "pygments_lexer": "ipython3",
   "version": "3.8.6"
  }
 },
 "nbformat": 4,
 "nbformat_minor": 4
}
