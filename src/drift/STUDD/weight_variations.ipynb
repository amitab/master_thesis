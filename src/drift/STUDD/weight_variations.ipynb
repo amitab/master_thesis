{
 "cells": [
  {
   "cell_type": "code",
   "execution_count": 2,
   "metadata": {},
   "outputs": [],
   "source": [
    "# Testing use case https://arxiv.org/pdf/2103.00903.pdf \n",
    "\n",
    "import pandas as pd\n",
    "import numpy as np\n",
    "import matplotlib.pyplot as plt\n",
    "\n",
    "from sklearn.model_selection import train_test_split\n",
    "from keras.utils.np_utils import to_categorical\n",
    "\n",
    "from tensorflow.keras.models import Sequential\n",
    "from tensorflow.keras.layers import Dense\n",
    "from tensorflow.keras.layers import Dropout, Flatten, Activation, BatchNormalization\n",
    "from tensorflow.keras.layers import Conv2D, MaxPooling2D\n",
    "from keras.optimizers import Adam\n",
    "from keras.callbacks import ReduceLROnPlateau, LearningRateScheduler, ModelCheckpoint\n",
    "from keras.preprocessing.image import ImageDataGenerator\n",
    "import tensorflow as tf\n",
    "\n",
    "from tensorflow.keras.datasets import mnist\n",
    "import keras\n",
    "\n",
    "# Generate the train and test sets\n",
    "(x_train, y_train), (x_test, y_test) = mnist.load_data()\n",
    "y_train = keras.utils.to_categorical(y_train)\n",
    "y_test = keras.utils.to_categorical(y_test)\n",
    " \n",
    "x_train = x_train.astype('float32') / 255.\n",
    "x_test = x_test.astype('float32') / 255.\n",
    "x_train = np.reshape(x_train, (len(x_train), 28, 28, 1))\n",
    "x_test = np.reshape(x_test, (len(x_test), 28, 28, 1))\n",
    " \n",
    "# Generate some noisy data\n",
    "noise_factor = 0.5\n",
    "x_train_noisy = x_train + noise_factor * np.random.normal(loc=0.0, scale=1.0, size=x_train.shape)\n",
    "x_test_noisy = x_test + noise_factor * np.random.normal(loc=0.0, scale=1.0, size=x_test.shape)\n",
    " \n",
    "x_train_noisy = np.clip(x_train_noisy, 0., 1.)\n",
    "x_test_noisy = np.clip(x_test_noisy, 0., 1.)"
   ]
  },
  {
   "cell_type": "code",
   "execution_count": 3,
   "metadata": {},
   "outputs": [],
   "source": [
    "import tensorflow as tf\n",
    "import numpy as np\n",
    "\n",
    "def weights_diff(model1, model2):\n",
    "    model_diff = []\n",
    "    layer_sizes = []\n",
    "    for i in range(len(model1.layers)):\n",
    "      if len(model1.layers[i].get_weights()) > 0:\n",
    "#         print(\"Layer \" + str(i + 1) + \":\")\n",
    "        layer_diff = model1.layers[i].get_weights()[0] - model2.layers[i].get_weights()[0]\n",
    "        model_diff.append(layer_diff)\n",
    "#         print(layer_diff)\n",
    "    for i in range(len(model_diff)):\n",
    "      current_layer_size = 0\n",
    "      total_nonzero = 0\n",
    "      max = 0\n",
    "      for cell in np.nditer(model_diff[i]):\n",
    "        current_layer_size += 1\n",
    "        if abs(cell) > 0.01:\n",
    "          total_nonzero += 1\n",
    "          if abs(cell) > max:\n",
    "            max = cell\n",
    "      percentage_diff = ((total_nonzero * 1.) / current_layer_size) * 100\n",
    "      print(\"Amount of different weights in Layer \" + str(i + 1) + \": \" + str(total_nonzero)\n",
    "            + \" / \" + str(current_layer_size) + \" (\" + str(percentage_diff) + \"%)\")\n",
    "      print(\"Maximum Difference in Layer \" + str(i+1) + \": \" + str(max))\n",
    "      layer_sizes.append(current_layer_size)\n",
    "\n",
    "        \n",
    "def weights_diff_stats(model1, model2):\n",
    "    model_diff = []\n",
    "    layer_sizes = []\n",
    "    for i in range(len(model1.layers)):\n",
    "      if len(model1.layers[i].get_weights()) > 0:\n",
    "#         print(\"Layer \" + str(i + 1) + \":\")\n",
    "        layer_diff = model1.layers[i].get_weights()[0] - model2.layers[i].get_weights()[0]\n",
    "        model_diff.append(layer_diff)\n",
    "#         print(layer_diff)\n",
    "    res = []\n",
    "    for i in range(len(model_diff)):\n",
    "      current_layer_size = 0\n",
    "      total_nonzero = 0\n",
    "      max = 0\n",
    "      for cell in np.nditer(model_diff[i]):\n",
    "        current_layer_size += 1\n",
    "        if abs(cell) > 0.01:\n",
    "          total_nonzero += 1\n",
    "          if abs(cell) > max:\n",
    "            max = cell\n",
    "      percentage_diff = ((total_nonzero * 1.) / current_layer_size) * 100\n",
    "      res.append(percentage_diff)\n",
    "#       print(\"Amount of different weights in Layer \" + str(i + 1) + \": \" + str(total_nonzero)\n",
    "#             + \" / \" + str(current_layer_size) + \" (\" + str(percentage_diff) + \"%)\")\n",
    "#       print(\"Maximum Difference in Layer \" + str(i+1) + \": \" + str(max))\n",
    "      layer_sizes.append(current_layer_size)\n",
    "    return res\n",
    "\n",
    "def epoch_weight_diff(m1_prefix, m2_prefix):\n",
    "    res = []\n",
    "    for i in range(1, 61):\n",
    "        t = '{}-{}'.format(m1_prefix, str(i).zfill(2))\n",
    "        s = '{}-{}'.format(m2_prefix, str(i).zfill(2))\n",
    "\n",
    "        m1 = tf.keras.models.load_model(t)\n",
    "        m2 = tf.keras.models.load_model(s)\n",
    "\n",
    "        stats = weights_diff_stats(m1, m2)\n",
    "        res.append(stats)\n",
    "    \n",
    "    lines = []\n",
    "    for j in range(len(res[0])):\n",
    "        line = []\n",
    "        for i in range(len(res)):\n",
    "            line.append(res[i][j])\n",
    "        lines.append(line)\n",
    "    return lines"
   ]
  },
  {
   "cell_type": "code",
   "execution_count": 3,
   "metadata": {},
   "outputs": [
    {
     "name": "stdout",
     "output_type": "stream",
     "text": [
      "Amount of different weights in Layer 1: 297 / 324 (91.66666666666666%)\n",
      "Maximum Difference in Layer 1: 0.51335806\n",
      "Amount of different weights in Layer 2: 11254 / 11664 (96.4849108367627%)\n",
      "Maximum Difference in Layer 2: 1.1523159\n",
      "Amount of different weights in Layer 3: 11279 / 11664 (96.69924554183812%)\n",
      "Maximum Difference in Layer 3: 1.2177842\n",
      "Amount of different weights in Layer 4: 11288 / 11664 (96.7764060356653%)\n",
      "Maximum Difference in Layer 4: 0.91574544\n",
      "Amount of different weights in Layer 5: 873658 / 903168 (96.73261231575964%)\n",
      "Maximum Difference in Layer 5: 1.2563202\n",
      "Amount of different weights in Layer 6: 485 / 512 (94.7265625%)\n",
      "Maximum Difference in Layer 6: 0.3603161\n",
      "Amount of different weights in Layer 7: 4857 / 5120 (94.86328125%)\n",
      "Maximum Difference in Layer 7: -0.10776067\n",
      "313/313 [==============================] - 3s 10ms/step - loss: 0.0187 - accuracy: 0.9965\n",
      "313/313 [==============================] - 3s 10ms/step - loss: 0.0183 - accuracy: 0.9960\n"
     ]
    },
    {
     "data": {
      "text/plain": [
       "[0.01831810735166073, 0.9959999918937683]"
      ]
     },
     "execution_count": 3,
     "metadata": {},
     "output_type": "execute_result"
    }
   ],
   "source": [
    "m1 = tf.keras.models.load_model('redundancy_check/v0/teacher_old_60')\n",
    "m2 = tf.keras.models.load_model('redundancy_check/v0/student_old_60')\n",
    "weights_diff(m1, m2)\n",
    "\n",
    "m1.evaluate(x_test, y_test)\n",
    "m2.evaluate(x_test, y_test)"
   ]
  },
  {
   "cell_type": "code",
   "execution_count": 4,
   "metadata": {},
   "outputs": [
    {
     "data": {
      "application/vnd.jupyter.widget-view+json": {
       "model_id": "169d43867e7947079afa09d2f39f81a5",
       "version_major": 2,
       "version_minor": 0
      },
      "text/plain": [
       "Canvas(toolbar=Toolbar(toolitems=[('Home', 'Reset original view', 'home', 'home'), ('Back', 'Back to previous …"
      ]
     },
     "metadata": {},
     "output_type": "display_data"
    }
   ],
   "source": [
    "%matplotlib widget\n",
    "\n",
    "lines = epoch_weight_diff('redundancy_check/v0/base_old_60', 'redundancy_check/v0/student_old_60')\n",
    "\n",
    "for line in lines:\n",
    "    plt.plot(line)\n",
    "plt.show()"
   ]
  },
  {
   "cell_type": "code",
   "execution_count": 5,
   "metadata": {},
   "outputs": [
    {
     "name": "stdout",
     "output_type": "stream",
     "text": [
      "Amount of different weights in Layer 1: 306 / 324 (94.44444444444444%)\n",
      "Maximum Difference in Layer 1: 0.924899\n",
      "Amount of different weights in Layer 2: 11181 / 11664 (95.85905349794238%)\n",
      "Maximum Difference in Layer 2: 1.169397\n",
      "Amount of different weights in Layer 3: 11129 / 11664 (95.41323731138546%)\n",
      "Maximum Difference in Layer 3: 1.4686886\n",
      "Amount of different weights in Layer 4: 11275 / 11664 (96.66495198902606%)\n",
      "Maximum Difference in Layer 4: 1.5375421\n",
      "Amount of different weights in Layer 5: 11362 / 11664 (97.41083676268862%)\n",
      "Maximum Difference in Layer 5: 1.5207713\n",
      "Amount of different weights in Layer 6: 11397 / 11664 (97.71090534979425%)\n",
      "Maximum Difference in Layer 6: 0.9279548\n",
      "Amount of different weights in Layer 7: 161570 / 165888 (97.3970389660494%)\n",
      "Maximum Difference in Layer 7: 1.8521359\n",
      "Amount of different weights in Layer 8: 490 / 512 (95.703125%)\n",
      "Maximum Difference in Layer 8: 0.57765865\n",
      "Amount of different weights in Layer 9: 4932 / 5120 (96.328125%)\n",
      "Maximum Difference in Layer 9: 1.0506041\n",
      "313/313 [==============================] - 4s 11ms/step - loss: 0.0234 - accuracy: 0.9957\n",
      "313/313 [==============================] - 4s 11ms/step - loss: 0.0255 - accuracy: 0.9959\n"
     ]
    },
    {
     "data": {
      "text/plain": [
       "[0.02546452358365059, 0.9958999752998352]"
      ]
     },
     "execution_count": 5,
     "metadata": {},
     "output_type": "execute_result"
    }
   ],
   "source": [
    "m1 = tf.keras.models.load_model('redundancy_check/v1/v1_teacher_old_60')\n",
    "m2 = tf.keras.models.load_model('redundancy_check/v1/v1_student_old_60')\n",
    "weights_diff(m1, m2)\n",
    "\n",
    "m1.evaluate(x_test, y_test)\n",
    "m2.evaluate(x_test, y_test)"
   ]
  },
  {
   "cell_type": "code",
   "execution_count": 6,
   "metadata": {},
   "outputs": [
    {
     "data": {
      "application/vnd.jupyter.widget-view+json": {
       "model_id": "4f726408026143de8884e3497036e4e1",
       "version_major": 2,
       "version_minor": 0
      },
      "text/plain": [
       "Canvas(toolbar=Toolbar(toolitems=[('Home', 'Reset original view', 'home', 'home'), ('Back', 'Back to previous …"
      ]
     },
     "metadata": {},
     "output_type": "display_data"
    }
   ],
   "source": [
    "%matplotlib widget\n",
    "\n",
    "lines = epoch_weight_diff('redundancy_check/v1/v1_teacher_old_60', 'redundancy_check/v1/v1_student_old_60')\n",
    "\n",
    "for line in lines:\n",
    "    plt.plot(line)\n",
    "plt.show()"
   ]
  },
  {
   "cell_type": "code",
   "execution_count": 7,
   "metadata": {},
   "outputs": [
    {
     "name": "stdout",
     "output_type": "stream",
     "text": [
      "Amount of different weights in Layer 1: 57 / 324 (17.59259259259259%)\n",
      "Maximum Difference in Layer 1: 0.027243175\n",
      "Amount of different weights in Layer 2: 3657 / 11664 (31.352880658436217%)\n",
      "Maximum Difference in Layer 2: 0.08973491\n",
      "Amount of different weights in Layer 3: 3433 / 11664 (29.432441700960222%)\n",
      "Maximum Difference in Layer 3: 0.018975895\n",
      "Amount of different weights in Layer 4: 3897 / 11664 (33.410493827160494%)\n",
      "Maximum Difference in Layer 4: 0.0944793\n",
      "Amount of different weights in Layer 5: 4487 / 11664 (38.468792866941016%)\n",
      "Maximum Difference in Layer 5: 0.08519952\n",
      "Amount of different weights in Layer 6: 5702 / 11664 (48.88545953360769%)\n",
      "Maximum Difference in Layer 6: 0.08907693\n",
      "Amount of different weights in Layer 7: 82180 / 165888 (49.53944830246913%)\n",
      "Maximum Difference in Layer 7: 0.07275871\n",
      "Amount of different weights in Layer 8: 165 / 512 (32.2265625%)\n",
      "Maximum Difference in Layer 8: 0.024882078\n",
      "Amount of different weights in Layer 9: 2261 / 5120 (44.16015625%)\n",
      "Maximum Difference in Layer 9: 0.090669766\n",
      "313/313 [==============================] - 4s 12ms/step - loss: 0.0182 - accuracy: 0.9945\n",
      "313/313 [==============================] - 4s 12ms/step - loss: 0.0187 - accuracy: 0.9941\n"
     ]
    },
    {
     "data": {
      "text/plain": [
       "[0.018657786771655083, 0.9940999746322632]"
      ]
     },
     "execution_count": 7,
     "metadata": {},
     "output_type": "execute_result"
    }
   ],
   "source": [
    "m1 = tf.keras.models.load_model('redundancy_check/v2/v2_teacher_old_60')\n",
    "m2 = tf.keras.models.load_model('redundancy_check/v2/v2_student_old_60')\n",
    "weights_diff(m1, m2)\n",
    "\n",
    "m1.evaluate(x_test, y_test)\n",
    "m2.evaluate(x_test, y_test)"
   ]
  },
  {
   "cell_type": "code",
   "execution_count": 8,
   "metadata": {},
   "outputs": [
    {
     "data": {
      "application/vnd.jupyter.widget-view+json": {
       "model_id": "22ea743cda55422f86923a2f974ac22f",
       "version_major": 2,
       "version_minor": 0
      },
      "text/plain": [
       "Canvas(toolbar=Toolbar(toolitems=[('Home', 'Reset original view', 'home', 'home'), ('Back', 'Back to previous …"
      ]
     },
     "metadata": {},
     "output_type": "display_data"
    }
   ],
   "source": [
    "%matplotlib widget\n",
    "\n",
    "lines = epoch_weight_diff('redundancy_check/v2/v2_teacher_old_60', 'redundancy_check/v2/v2_student_old_60')\n",
    "\n",
    "for line in lines:\n",
    "    plt.plot(line)\n",
    "plt.show()"
   ]
  },
  {
   "cell_type": "code",
   "execution_count": 9,
   "metadata": {},
   "outputs": [
    {
     "name": "stdout",
     "output_type": "stream",
     "text": [
      "Amount of different weights in Layer 1: 263 / 288 (91.31944444444444%)\n",
      "Maximum Difference in Layer 1: 0.5270013\n",
      "Amount of different weights in Layer 2: 30 / 32 (93.75%)\n",
      "Maximum Difference in Layer 2: 0.41574627\n",
      "Amount of different weights in Layer 3: 8735 / 9216 (94.78081597222221%)\n",
      "Maximum Difference in Layer 3: 0.7891418\n",
      "Amount of different weights in Layer 4: 31 / 32 (96.875%)\n",
      "Maximum Difference in Layer 4: 0.654193\n",
      "Amount of different weights in Layer 5: 24504 / 25600 (95.71875%)\n",
      "Maximum Difference in Layer 5: 0.82350403\n",
      "Amount of different weights in Layer 6: 31 / 32 (96.875%)\n",
      "Maximum Difference in Layer 6: 0.22336972\n",
      "Amount of different weights in Layer 7: 17740 / 18432 (96.24565972222221%)\n",
      "Maximum Difference in Layer 7: 0.79646343\n",
      "Amount of different weights in Layer 8: 62 / 64 (96.875%)\n",
      "Maximum Difference in Layer 8: 0.46779442\n",
      "Amount of different weights in Layer 9: 35302 / 36864 (95.76280381944444%)\n",
      "Maximum Difference in Layer 9: 0.82203484\n",
      "Amount of different weights in Layer 10: 63 / 64 (98.4375%)\n",
      "Maximum Difference in Layer 10: 0.53985727\n",
      "Amount of different weights in Layer 11: 98177 / 102400 (95.8759765625%)\n",
      "Maximum Difference in Layer 11: 0.8385323\n",
      "Amount of different weights in Layer 12: 63 / 64 (98.4375%)\n",
      "Maximum Difference in Layer 12: 0.20033795\n",
      "Amount of different weights in Layer 13: 125565 / 131072 (95.79849243164062%)\n",
      "Maximum Difference in Layer 13: 0.9317051\n",
      "Amount of different weights in Layer 14: 114 / 128 (89.0625%)\n",
      "Maximum Difference in Layer 14: 0.28745627\n",
      "Amount of different weights in Layer 15: 1166 / 1280 (91.09375%)\n",
      "Maximum Difference in Layer 15: 0.5094886\n",
      "313/313 [==============================] - 3s 10ms/step - loss: 0.0173 - accuracy: 0.9965\n",
      "313/313 [==============================] - 3s 10ms/step - loss: 0.0202 - accuracy: 0.9966\n"
     ]
    },
    {
     "data": {
      "text/plain": [
       "[0.02022099681198597, 0.9965999722480774]"
      ]
     },
     "execution_count": 9,
     "metadata": {},
     "output_type": "execute_result"
    }
   ],
   "source": [
    "m1 = tf.keras.models.load_model('new_model/v1/v1_teacher_old_60')\n",
    "m2 = tf.keras.models.load_model('new_model/v1/v1_student_old_60')\n",
    "weights_diff(m1, m2)\n",
    "\n",
    "m1.evaluate(x_test, y_test)\n",
    "m2.evaluate(x_test, y_test)"
   ]
  },
  {
   "cell_type": "code",
   "execution_count": 10,
   "metadata": {},
   "outputs": [
    {
     "data": {
      "application/vnd.jupyter.widget-view+json": {
       "model_id": "e08572b3cba545cb9b2616201e59a70c",
       "version_major": 2,
       "version_minor": 0
      },
      "text/plain": [
       "Canvas(toolbar=Toolbar(toolitems=[('Home', 'Reset original view', 'home', 'home'), ('Back', 'Back to previous …"
      ]
     },
     "metadata": {},
     "output_type": "display_data"
    }
   ],
   "source": [
    "%matplotlib widget\n",
    "\n",
    "lines = epoch_weight_diff('new_model/v1/v1_teacher_old_60', 'new_model/v1/v1_student_old_60')\n",
    "\n",
    "for line in lines:\n",
    "    plt.plot(line)\n",
    "plt.show()"
   ]
  },
  {
   "cell_type": "code",
   "execution_count": 11,
   "metadata": {},
   "outputs": [
    {
     "name": "stdout",
     "output_type": "stream",
     "text": [
      "Amount of different weights in Layer 1: 10 / 288 (3.4722222222222223%)\n",
      "Maximum Difference in Layer 1: 0.012427985\n",
      "Amount of different weights in Layer 2: 1 / 32 (3.125%)\n",
      "Maximum Difference in Layer 2: 0.013044596\n",
      "Amount of different weights in Layer 3: 688 / 9216 (7.465277777777778%)\n",
      "Maximum Difference in Layer 3: 0.035996184\n",
      "Amount of different weights in Layer 4: 0 / 32 (0.0%)\n",
      "Maximum Difference in Layer 4: 0\n",
      "Amount of different weights in Layer 5: 1272 / 25600 (4.96875%)\n",
      "Maximum Difference in Layer 5: 0.025995564\n",
      "Amount of different weights in Layer 6: 1 / 32 (3.125%)\n",
      "Maximum Difference in Layer 6: 0.011638701\n",
      "Amount of different weights in Layer 7: 3303 / 18432 (17.919921875%)\n",
      "Maximum Difference in Layer 7: 0.02351069\n",
      "Amount of different weights in Layer 8: 19 / 64 (29.6875%)\n",
      "Maximum Difference in Layer 8: 0.014470518\n",
      "Amount of different weights in Layer 9: 4700 / 36864 (12.749565972222221%)\n",
      "Maximum Difference in Layer 9: 0.029955119\n",
      "Amount of different weights in Layer 10: 8 / 64 (12.5%)\n",
      "Maximum Difference in Layer 10: -0.01563698\n",
      "Amount of different weights in Layer 11: 9238 / 102400 (9.021484375%)\n",
      "Maximum Difference in Layer 11: 0.030787196\n",
      "Amount of different weights in Layer 12: 18 / 64 (28.125%)\n",
      "Maximum Difference in Layer 12: 0.01595515\n",
      "Amount of different weights in Layer 13: 19891 / 131072 (15.175628662109375%)\n",
      "Maximum Difference in Layer 13: 0.040211357\n",
      "Amount of different weights in Layer 14: 54 / 128 (42.1875%)\n",
      "Maximum Difference in Layer 14: -0.015324831\n",
      "Amount of different weights in Layer 15: 246 / 1280 (19.21875%)\n",
      "Maximum Difference in Layer 15: 0.0459226\n",
      "313/313 [==============================] - 3s 11ms/step - loss: 0.0156 - accuracy: 0.9949\n",
      "313/313 [==============================] - 4s 11ms/step - loss: 0.0164 - accuracy: 0.9946\n"
     ]
    },
    {
     "data": {
      "text/plain": [
       "[0.01636120304465294, 0.9945999979972839]"
      ]
     },
     "execution_count": 11,
     "metadata": {},
     "output_type": "execute_result"
    }
   ],
   "source": [
    "m1 = tf.keras.models.load_model('new_model/v0/v0_teacher_new_60')\n",
    "m2 = tf.keras.models.load_model('new_model/v0/v0_student_new_60')\n",
    "weights_diff(m1, m2)\n",
    "\n",
    "m1.evaluate(x_test, y_test)\n",
    "m2.evaluate(x_test, y_test)"
   ]
  },
  {
   "cell_type": "code",
   "execution_count": 4,
   "metadata": {},
   "outputs": [
    {
     "data": {
      "application/vnd.jupyter.widget-view+json": {
       "model_id": "34206c73315f4bec9b5f629b60bb105c",
       "version_major": 2,
       "version_minor": 0
      },
      "text/plain": [
       "Canvas(toolbar=Toolbar(toolitems=[('Home', 'Reset original view', 'home', 'home'), ('Back', 'Back to previous …"
      ]
     },
     "metadata": {},
     "output_type": "display_data"
    }
   ],
   "source": [
    "%matplotlib widget\n",
    "\n",
    "lines = epoch_weight_diff('new_model/v0/v0_teacher_new_60', 'new_model/v0/v0_student_new_60')\n",
    "\n",
    "for line in lines:\n",
    "    plt.plot(line)\n",
    "plt.show()"
   ]
  },
  {
   "cell_type": "code",
   "execution_count": 5,
   "metadata": {},
   "outputs": [
    {
     "name": "stdout",
     "output_type": "stream",
     "text": [
      "Amount of different weights in Layer 1: 0 / 288 (0.0%)\n",
      "Maximum Difference in Layer 1: 0\n",
      "Amount of different weights in Layer 2: 0 / 32 (0.0%)\n",
      "Maximum Difference in Layer 2: 0\n",
      "Amount of different weights in Layer 3: 0 / 9216 (0.0%)\n",
      "Maximum Difference in Layer 3: 0\n",
      "Amount of different weights in Layer 4: 0 / 32 (0.0%)\n",
      "Maximum Difference in Layer 4: 0\n",
      "Amount of different weights in Layer 5: 0 / 25600 (0.0%)\n",
      "Maximum Difference in Layer 5: 0\n",
      "Amount of different weights in Layer 6: 0 / 32 (0.0%)\n",
      "Maximum Difference in Layer 6: 0\n",
      "Amount of different weights in Layer 7: 0 / 18432 (0.0%)\n",
      "Maximum Difference in Layer 7: 0\n",
      "Amount of different weights in Layer 8: 0 / 64 (0.0%)\n",
      "Maximum Difference in Layer 8: 0\n",
      "Amount of different weights in Layer 9: 0 / 36864 (0.0%)\n",
      "Maximum Difference in Layer 9: 0\n",
      "Amount of different weights in Layer 10: 0 / 64 (0.0%)\n",
      "Maximum Difference in Layer 10: 0\n",
      "Amount of different weights in Layer 11: 0 / 102400 (0.0%)\n",
      "Maximum Difference in Layer 11: 0\n",
      "Amount of different weights in Layer 12: 0 / 64 (0.0%)\n",
      "Maximum Difference in Layer 12: 0\n",
      "Amount of different weights in Layer 13: 0 / 131072 (0.0%)\n",
      "Maximum Difference in Layer 13: 0\n",
      "Amount of different weights in Layer 14: 0 / 128 (0.0%)\n",
      "Maximum Difference in Layer 14: 0\n",
      "Amount of different weights in Layer 15: 0 / 1280 (0.0%)\n",
      "Maximum Difference in Layer 15: 0\n",
      "313/313 [==============================] - 3s 10ms/step - loss: 0.0363 - accuracy: 0.9879\n",
      "313/313 [==============================] - 3s 10ms/step - loss: 0.0428 - accuracy: 0.9853\n"
     ]
    },
    {
     "data": {
      "text/plain": [
       "[0.04275054484605789, 0.9853000044822693]"
      ]
     },
     "execution_count": 5,
     "metadata": {},
     "output_type": "execute_result"
    }
   ],
   "source": [
    "m1 = tf.keras.models.load_model('new_model/v2/v2_teacher_new_90')\n",
    "m2 = tf.keras.models.load_model('new_model/v2/v2_student_new_90')\n",
    "weights_diff(m1, m2)\n",
    "\n",
    "m1.evaluate(x_test, y_test)\n",
    "m2.evaluate(x_test, y_test)"
   ]
  },
  {
   "cell_type": "code",
   "execution_count": 6,
   "metadata": {},
   "outputs": [
    {
     "data": {
      "application/vnd.jupyter.widget-view+json": {
       "model_id": "8fb6fd395aa34523a3086b4196cdce0e",
       "version_major": 2,
       "version_minor": 0
      },
      "text/plain": [
       "Canvas(toolbar=Toolbar(toolitems=[('Home', 'Reset original view', 'home', 'home'), ('Back', 'Back to previous …"
      ]
     },
     "metadata": {},
     "output_type": "display_data"
    }
   ],
   "source": [
    "%matplotlib widget\n",
    "\n",
    "lines = epoch_weight_diff('new_model/v2/v2_teacher_new_90', 'new_model/v2/v2_student_new_90')\n",
    "\n",
    "for line in lines:\n",
    "    plt.plot(line)\n",
    "plt.show()"
   ]
  },
  {
   "cell_type": "code",
   "execution_count": 10,
   "metadata": {},
   "outputs": [
    {
     "data": {
      "text/plain": [
       "array([1.0005457 , 1.0005746 , 1.000022  , 0.99965256, 0.9999406 ,\n",
       "       1.000231  , 0.9989253 , 1.0004662 , 0.99973905, 1.0006468 ,\n",
       "       0.9995219 , 0.999264  , 1.0004407 , 1.0007771 , 1.0002397 ,\n",
       "       1.0006833 , 1.0001408 , 0.99856246, 0.99882245, 1.0013385 ,\n",
       "       1.0007441 , 0.9987658 , 1.0004623 , 0.9990053 , 0.9997853 ,\n",
       "       1.0004537 , 0.9987236 , 0.9998182 , 0.999798  , 0.999903  ,\n",
       "       0.99916005, 1.0008368 ], dtype=float32)"
      ]
     },
     "execution_count": 10,
     "metadata": {},
     "output_type": "execute_result"
    }
   ],
   "source": [
    "m1 = tf.keras.models.load_model('new_model/v2/v2_teacher_new_90-01')\n",
    "m2 = tf.keras.models.load_model('new_model/v2/v2_student_new_90-01')\n",
    "m1.layers[1].get_weights()[0]"
   ]
  },
  {
   "cell_type": "code",
   "execution_count": 12,
   "metadata": {},
   "outputs": [
    {
     "data": {
      "text/plain": [
       "array([1.01388   , 1.0173744 , 0.99439436, 0.9895311 , 0.99941295,\n",
       "       1.0016474 , 0.9808729 , 1.0035157 , 0.9938404 , 0.99454755,\n",
       "       1.0065145 , 1.0053196 , 1.0028527 , 0.9931795 , 1.0042446 ,\n",
       "       1.0046928 , 1.0001746 , 0.99104697, 0.98934114, 1.0053651 ,\n",
       "       0.995314  , 0.99076957, 0.9978673 , 0.9908145 , 0.997582  ,\n",
       "       1.0016735 , 0.9983986 , 1.0024908 , 1.0003909 , 0.99845684,\n",
       "       0.99454445, 1.0055102 ], dtype=float32)"
      ]
     },
     "execution_count": 12,
     "metadata": {},
     "output_type": "execute_result"
    }
   ],
   "source": [
    "m1 = tf.keras.models.load_model('new_model/v2/v2_teacher_new_90-50')\n",
    "m2 = tf.keras.models.load_model('new_model/v2/v2_student_new_90-50')\n",
    "m1.layers[1].get_weights()[0]"
   ]
  },
  {
   "cell_type": "code",
   "execution_count": null,
   "metadata": {},
   "outputs": [],
   "source": []
  }
 ],
 "metadata": {
  "kernelspec": {
   "display_name": "Python 3",
   "language": "python",
   "name": "python3"
  },
  "language_info": {
   "codemirror_mode": {
    "name": "ipython",
    "version": 3
   },
   "file_extension": ".py",
   "mimetype": "text/x-python",
   "name": "python",
   "nbconvert_exporter": "python",
   "pygments_lexer": "ipython3",
   "version": "3.8.6"
  }
 },
 "nbformat": 4,
 "nbformat_minor": 4
}
