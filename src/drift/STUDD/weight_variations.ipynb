{
 "cells": [
  {
   "cell_type": "code",
   "execution_count": 4,
   "metadata": {},
   "outputs": [],
   "source": [
    "# Testing use case https://arxiv.org/pdf/2103.00903.pdf \n",
    "\n",
    "import pandas as pd\n",
    "import numpy as np\n",
    "import matplotlib.pyplot as plt\n",
    "\n",
    "from sklearn.model_selection import train_test_split\n",
    "from keras.utils.np_utils import to_categorical\n",
    "\n",
    "from tensorflow.keras.models import Sequential\n",
    "from tensorflow.keras.layers import Dense\n",
    "from tensorflow.keras.layers import Dropout, Flatten, Activation, BatchNormalization\n",
    "from tensorflow.keras.layers import Conv2D, MaxPooling2D\n",
    "from keras.optimizers import Adam\n",
    "from keras.callbacks import ReduceLROnPlateau, LearningRateScheduler, ModelCheckpoint\n",
    "from keras.preprocessing.image import ImageDataGenerator\n",
    "import tensorflow as tf\n",
    "\n",
    "from tensorflow.keras.datasets import mnist\n",
    "import keras\n",
    "\n",
    "# Generate the train and test sets\n",
    "(x_train, y_train), (x_test, y_test) = mnist.load_data()\n",
    "y_train = keras.utils.to_categorical(y_train)\n",
    "y_test = keras.utils.to_categorical(y_test)\n",
    " \n",
    "x_train = x_train.astype('float32') / 255.\n",
    "x_test = x_test.astype('float32') / 255.\n",
    "x_train = np.reshape(x_train, (len(x_train), 28, 28, 1))\n",
    "x_test = np.reshape(x_test, (len(x_test), 28, 28, 1))\n",
    " \n",
    "# Generate some noisy data\n",
    "noise_factor = 0.5\n",
    "x_train_noisy = x_train + noise_factor * np.random.normal(loc=0.0, scale=1.0, size=x_train.shape)\n",
    "x_test_noisy = x_test + noise_factor * np.random.normal(loc=0.0, scale=1.0, size=x_test.shape)\n",
    " \n",
    "x_train_noisy = np.clip(x_train_noisy, 0., 1.)\n",
    "x_test_noisy = np.clip(x_test_noisy, 0., 1.)"
   ]
  },
  {
   "cell_type": "code",
   "execution_count": 5,
   "metadata": {},
   "outputs": [],
   "source": [
    "import tensorflow as tf\n",
    "import numpy as np\n",
    "\n",
    "def weights_diff(model1, model2):\n",
    "    model_diff = []\n",
    "    layer_sizes = []\n",
    "    for i in range(len(model1.layers)):\n",
    "      if len(model1.layers[i].get_weights()) > 0:\n",
    "#         print(\"Layer \" + str(i + 1) + \":\")\n",
    "        layer_diff = model1.layers[i].get_weights()[0] - model2.layers[i].get_weights()[0]\n",
    "        model_diff.append(layer_diff)\n",
    "#         print(layer_diff)\n",
    "    for i in range(len(model_diff)):\n",
    "      current_layer_size = 0\n",
    "      total_nonzero = 0\n",
    "      max = 0\n",
    "      for cell in np.nditer(model_diff[i]):\n",
    "        current_layer_size += 1\n",
    "        if abs(cell) > 0.01:\n",
    "          total_nonzero += 1\n",
    "          if abs(cell) > max:\n",
    "            max = cell\n",
    "      percentage_diff = ((total_nonzero * 1.) / current_layer_size) * 100\n",
    "      print(\"Amount of different weights in Layer \" + str(i + 1) + \": \" + str(total_nonzero)\n",
    "            + \" / \" + str(current_layer_size) + \" (\" + str(percentage_diff) + \"%)\")\n",
    "      print(\"Maximum Difference in Layer \" + str(i+1) + \": \" + str(max))\n",
    "      layer_sizes.append(current_layer_size)\n",
    "\n",
    "        \n",
    "def weights_diff_stats(model1, model2):\n",
    "    model_diff = []\n",
    "    layer_sizes = []\n",
    "    for i in range(len(model1.layers)):\n",
    "      if len(model1.layers[i].get_weights()) > 0:\n",
    "#         print(\"Layer \" + str(i + 1) + \":\")\n",
    "        layer_diff = model1.layers[i].get_weights()[0] - model2.layers[i].get_weights()[0]\n",
    "        model_diff.append(layer_diff)\n",
    "#         print(layer_diff)\n",
    "    res = []\n",
    "    for i in range(len(model_diff)):\n",
    "      current_layer_size = 0\n",
    "      total_nonzero = 0\n",
    "      max = 0\n",
    "      for cell in np.nditer(model_diff[i]):\n",
    "        current_layer_size += 1\n",
    "        if abs(cell) > 0.01:\n",
    "          total_nonzero += 1\n",
    "          if abs(cell) > max:\n",
    "            max = cell\n",
    "      percentage_diff = ((total_nonzero * 1.) / current_layer_size) * 100\n",
    "      res.append(percentage_diff)\n",
    "#       print(\"Amount of different weights in Layer \" + str(i + 1) + \": \" + str(total_nonzero)\n",
    "#             + \" / \" + str(current_layer_size) + \" (\" + str(percentage_diff) + \"%)\")\n",
    "#       print(\"Maximum Difference in Layer \" + str(i+1) + \": \" + str(max))\n",
    "      layer_sizes.append(current_layer_size)\n",
    "    return res"
   ]
  },
  {
   "cell_type": "code",
   "execution_count": 11,
   "metadata": {},
   "outputs": [
    {
     "name": "stdout",
     "output_type": "stream",
     "text": [
      "Amount of different weights in Layer 1: 297 / 324 (91.66666666666666%)\n",
      "Maximum Difference in Layer 1: 0.51335806\n",
      "Amount of different weights in Layer 2: 11254 / 11664 (96.4849108367627%)\n",
      "Maximum Difference in Layer 2: 1.1523159\n",
      "Amount of different weights in Layer 3: 11279 / 11664 (96.69924554183812%)\n",
      "Maximum Difference in Layer 3: 1.2177842\n",
      "Amount of different weights in Layer 4: 11288 / 11664 (96.7764060356653%)\n",
      "Maximum Difference in Layer 4: 0.91574544\n",
      "Amount of different weights in Layer 5: 873658 / 903168 (96.73261231575964%)\n",
      "Maximum Difference in Layer 5: 1.2563202\n",
      "Amount of different weights in Layer 6: 485 / 512 (94.7265625%)\n",
      "Maximum Difference in Layer 6: 0.3603161\n",
      "Amount of different weights in Layer 7: 4857 / 5120 (94.86328125%)\n",
      "Maximum Difference in Layer 7: -0.10776067\n"
     ]
    }
   ],
   "source": [
    "m1 = tf.keras.models.load_model('redundancy_check/teacher_old_60')\n",
    "m2 = tf.keras.models.load_model('redundancy_check/student_old_60')\n",
    "weights_diff(m1, m2)"
   ]
  },
  {
   "cell_type": "code",
   "execution_count": 12,
   "metadata": {},
   "outputs": [],
   "source": [
    "res = []\n",
    "for i in range(1, 61):\n",
    "    t = 'redundancy_check/base_old_60-{}'.format(str(i).zfill(2))\n",
    "    s = 'redundancy_check/student_old_60-{}'.format(str(i).zfill(2))\n",
    "    \n",
    "    m1 = tf.keras.models.load_model(t)\n",
    "    m2 = tf.keras.models.load_model(s)\n",
    "    \n",
    "    stats = weights_diff_stats(m1, m2)\n",
    "    res.append(stats)"
   ]
  },
  {
   "cell_type": "code",
   "execution_count": 14,
   "metadata": {},
   "outputs": [
    {
     "data": {
      "application/vnd.jupyter.widget-view+json": {
       "model_id": "674219b4b55c4b32ab77a843e10dbd83",
       "version_major": 2,
       "version_minor": 0
      },
      "text/plain": [
       "Canvas(toolbar=Toolbar(toolitems=[('Home', 'Reset original view', 'home', 'home'), ('Back', 'Back to previous …"
      ]
     },
     "metadata": {},
     "output_type": "display_data"
    }
   ],
   "source": [
    "%matplotlib widget\n",
    "\n",
    "lines = []\n",
    "for j in range(len(res[0])):\n",
    "    line = []\n",
    "    for i in range(len(res)):\n",
    "        line.append(res[i][j])\n",
    "    lines.append(line)\n",
    "\n",
    "for line in lines:\n",
    "    plt.plot(line)\n",
    "plt.show()"
   ]
  },
  {
   "cell_type": "code",
   "execution_count": 2,
   "metadata": {},
   "outputs": [],
   "source": [
    "def epoch_weight_diff(m1_prefix, m2_prefix):\n",
    "    res = []\n",
    "    for i in range(1, 61):\n",
    "        t = '{}-{}'.format(m1_prefix, str(i).zfill(2))\n",
    "        s = '{}-{}'.format(m2_prefix, str(i).zfill(2))\n",
    "\n",
    "        m1 = tf.keras.models.load_model(t)\n",
    "        m2 = tf.keras.models.load_model(s)\n",
    "\n",
    "        stats = weights_diff_stats(m1, m2)\n",
    "        res.append(stats)\n",
    "    \n",
    "    lines = []\n",
    "    for j in range(len(res[0])):\n",
    "        line = []\n",
    "        for i in range(len(res)):\n",
    "            line.append(res[i][j])\n",
    "        lines.append(line)\n",
    "    return lines"
   ]
  },
  {
   "cell_type": "code",
   "execution_count": 17,
   "metadata": {},
   "outputs": [
    {
     "data": {
      "application/vnd.jupyter.widget-view+json": {
       "model_id": "ce45cb83238c4dcb8ead4ecbc2057a8b",
       "version_major": 2,
       "version_minor": 0
      },
      "text/plain": [
       "Canvas(toolbar=Toolbar(toolitems=[('Home', 'Reset original view', 'home', 'home'), ('Back', 'Back to previous …"
      ]
     },
     "metadata": {},
     "output_type": "display_data"
    }
   ],
   "source": [
    "%matplotlib widget\n",
    "\n",
    "lines = epoch_weight_diff('redundancy_check/v1_teacher_old_60', 'redundancy_check/v1_student_old_60')\n",
    "\n",
    "for line in lines:\n",
    "    plt.plot(line)\n",
    "plt.show()"
   ]
  },
  {
   "cell_type": "code",
   "execution_count": 18,
   "metadata": {},
   "outputs": [
    {
     "data": {
      "application/vnd.jupyter.widget-view+json": {
       "model_id": "43dd855c06d74d4dbeea1d86c664c8c0",
       "version_major": 2,
       "version_minor": 0
      },
      "text/plain": [
       "Canvas(toolbar=Toolbar(toolitems=[('Home', 'Reset original view', 'home', 'home'), ('Back', 'Back to previous …"
      ]
     },
     "metadata": {},
     "output_type": "display_data"
    }
   ],
   "source": [
    "%matplotlib widget\n",
    "\n",
    "lines = epoch_weight_diff('redundancy_check/v2_teacher_old_60', 'redundancy_check/v2_student_old_60')\n",
    "\n",
    "for line in lines:\n",
    "    plt.plot(line)\n",
    "plt.show()"
   ]
  },
  {
   "cell_type": "code",
   "execution_count": 19,
   "metadata": {},
   "outputs": [
    {
     "name": "stdout",
     "output_type": "stream",
     "text": [
      "Amount of different weights in Layer 1: 57 / 324 (17.59259259259259%)\n",
      "Maximum Difference in Layer 1: 0.027243175\n",
      "Amount of different weights in Layer 2: 3657 / 11664 (31.352880658436217%)\n",
      "Maximum Difference in Layer 2: 0.08973491\n",
      "Amount of different weights in Layer 3: 3433 / 11664 (29.432441700960222%)\n",
      "Maximum Difference in Layer 3: 0.018975895\n",
      "Amount of different weights in Layer 4: 3897 / 11664 (33.410493827160494%)\n",
      "Maximum Difference in Layer 4: 0.0944793\n",
      "Amount of different weights in Layer 5: 4487 / 11664 (38.468792866941016%)\n",
      "Maximum Difference in Layer 5: 0.08519952\n",
      "Amount of different weights in Layer 6: 5702 / 11664 (48.88545953360769%)\n",
      "Maximum Difference in Layer 6: 0.08907693\n",
      "Amount of different weights in Layer 7: 82180 / 165888 (49.53944830246913%)\n",
      "Maximum Difference in Layer 7: 0.07275871\n",
      "Amount of different weights in Layer 8: 165 / 512 (32.2265625%)\n",
      "Maximum Difference in Layer 8: 0.024882078\n",
      "Amount of different weights in Layer 9: 2261 / 5120 (44.16015625%)\n",
      "Maximum Difference in Layer 9: 0.090669766\n"
     ]
    }
   ],
   "source": [
    "m1 = tf.keras.models.load_model('redundancy_check/v2_teacher_old_60')\n",
    "m2 = tf.keras.models.load_model('redundancy_check/v2_student_old_60')\n",
    "weights_diff(m1, m2)"
   ]
  },
  {
   "cell_type": "code",
   "execution_count": 6,
   "metadata": {},
   "outputs": [
    {
     "data": {
      "application/vnd.jupyter.widget-view+json": {
       "model_id": "712ac1e1415148e28fdc29fda9fa5d06",
       "version_major": 2,
       "version_minor": 0
      },
      "text/plain": [
       "Canvas(toolbar=Toolbar(toolitems=[('Home', 'Reset original view', 'home', 'home'), ('Back', 'Back to previous …"
      ]
     },
     "metadata": {},
     "output_type": "display_data"
    }
   ],
   "source": [
    "%matplotlib widget\n",
    "\n",
    "lines = epoch_weight_diff('new_model/v1/v1_teacher_old_60', 'new_model/v1/v1_student_old_60')\n",
    "\n",
    "for line in lines:\n",
    "    plt.plot(line)\n",
    "plt.show()"
   ]
  },
  {
   "cell_type": "code",
   "execution_count": 7,
   "metadata": {},
   "outputs": [
    {
     "name": "stdout",
     "output_type": "stream",
     "text": [
      "Amount of different weights in Layer 1: 263 / 288 (91.31944444444444%)\n",
      "Maximum Difference in Layer 1: 0.5270013\n",
      "Amount of different weights in Layer 2: 30 / 32 (93.75%)\n",
      "Maximum Difference in Layer 2: 0.41574627\n",
      "Amount of different weights in Layer 3: 8735 / 9216 (94.78081597222221%)\n",
      "Maximum Difference in Layer 3: 0.7891418\n",
      "Amount of different weights in Layer 4: 31 / 32 (96.875%)\n",
      "Maximum Difference in Layer 4: 0.654193\n",
      "Amount of different weights in Layer 5: 24504 / 25600 (95.71875%)\n",
      "Maximum Difference in Layer 5: 0.82350403\n",
      "Amount of different weights in Layer 6: 31 / 32 (96.875%)\n",
      "Maximum Difference in Layer 6: 0.22336972\n",
      "Amount of different weights in Layer 7: 17740 / 18432 (96.24565972222221%)\n",
      "Maximum Difference in Layer 7: 0.79646343\n",
      "Amount of different weights in Layer 8: 62 / 64 (96.875%)\n",
      "Maximum Difference in Layer 8: 0.46779442\n",
      "Amount of different weights in Layer 9: 35302 / 36864 (95.76280381944444%)\n",
      "Maximum Difference in Layer 9: 0.82203484\n",
      "Amount of different weights in Layer 10: 63 / 64 (98.4375%)\n",
      "Maximum Difference in Layer 10: 0.53985727\n",
      "Amount of different weights in Layer 11: 98177 / 102400 (95.8759765625%)\n",
      "Maximum Difference in Layer 11: 0.8385323\n",
      "Amount of different weights in Layer 12: 63 / 64 (98.4375%)\n",
      "Maximum Difference in Layer 12: 0.20033795\n",
      "Amount of different weights in Layer 13: 125565 / 131072 (95.79849243164062%)\n",
      "Maximum Difference in Layer 13: 0.9317051\n",
      "Amount of different weights in Layer 14: 114 / 128 (89.0625%)\n",
      "Maximum Difference in Layer 14: 0.28745627\n",
      "Amount of different weights in Layer 15: 1166 / 1280 (91.09375%)\n",
      "Maximum Difference in Layer 15: 0.5094886\n"
     ]
    }
   ],
   "source": [
    "m1 = tf.keras.models.load_model('new_model/v1/v1_teacher_old_60')\n",
    "m2 = tf.keras.models.load_model('new_model/v1/v1_student_old_60')\n",
    "weights_diff(m1, m2)"
   ]
  },
  {
   "cell_type": "code",
   "execution_count": null,
   "metadata": {},
   "outputs": [],
   "source": []
  }
 ],
 "metadata": {
  "kernelspec": {
   "display_name": "Python 3",
   "language": "python",
   "name": "python3"
  },
  "language_info": {
   "codemirror_mode": {
    "name": "ipython",
    "version": 3
   },
   "file_extension": ".py",
   "mimetype": "text/x-python",
   "name": "python",
   "nbconvert_exporter": "python",
   "pygments_lexer": "ipython3",
   "version": "3.8.6"
  }
 },
 "nbformat": 4,
 "nbformat_minor": 4
}
