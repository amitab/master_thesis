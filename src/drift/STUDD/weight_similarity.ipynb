{
 "cells": [
  {
   "cell_type": "code",
   "execution_count": 14,
   "metadata": {},
   "outputs": [],
   "source": [
    "import tensorflow as tf\n",
    "import numpy as np\n",
    "\n",
    "def weights_diff(model1, model2):\n",
    "    model_diff = []\n",
    "    layer_sizes = []\n",
    "    for i in range(len(model1.layers)):\n",
    "      if len(model1.layers[i].get_weights()) > 0:\n",
    "#         print(\"Layer \" + str(i + 1) + \":\")\n",
    "        layer_diff = model1.layers[i].get_weights()[0] - model2.layers[i].get_weights()[0]\n",
    "        model_diff.append(layer_diff)\n",
    "#         print(layer_diff)\n",
    "    for i in range(len(model_diff)):\n",
    "      current_layer_size = 0\n",
    "      total_nonzero = 0\n",
    "      max = 0\n",
    "      for cell in np.nditer(model_diff[i]):\n",
    "        current_layer_size += 1\n",
    "        if abs(cell) > 0.01:\n",
    "          total_nonzero += 1\n",
    "          if abs(cell) > max:\n",
    "            max = cell\n",
    "      percentage_diff = ((total_nonzero * 1.) / current_layer_size) * 100\n",
    "      print(\"Amount of different weights in Layer \" + str(i + 1) + \": \" + str(total_nonzero)\n",
    "            + \" / \" + str(current_layer_size) + \" (\" + str(percentage_diff) + \"%)\")\n",
    "      print(\"Maximum Difference in Layer \" + str(i+1) + \": \" + str(max))\n",
    "      layer_sizes.append(current_layer_size)"
   ]
  },
  {
   "cell_type": "code",
   "execution_count": 27,
   "metadata": {},
   "outputs": [
    {
     "name": "stdout",
     "output_type": "stream",
     "text": [
      "Amount of different weights in Layer 1: 8 / 288 (2.7777777777777777%)\n",
      "Maximum Difference in Layer 1: 0.018447088\n",
      "Amount of different weights in Layer 2: 0 / 32 (0.0%)\n",
      "Maximum Difference in Layer 2: 0\n",
      "Amount of different weights in Layer 3: 400 / 9216 (4.340277777777778%)\n",
      "Maximum Difference in Layer 3: 0.025516331\n",
      "Amount of different weights in Layer 4: 0 / 32 (0.0%)\n",
      "Maximum Difference in Layer 4: 0\n",
      "Amount of different weights in Layer 5: 770 / 25600 (3.0078125%)\n",
      "Maximum Difference in Layer 5: 0.013778411\n",
      "Amount of different weights in Layer 6: 7 / 32 (21.875%)\n",
      "Maximum Difference in Layer 6: 0.012949765\n",
      "Amount of different weights in Layer 7: 2303 / 18432 (12.494574652777777%)\n",
      "Maximum Difference in Layer 7: 0.029119425\n",
      "Amount of different weights in Layer 8: 9 / 64 (14.0625%)\n",
      "Maximum Difference in Layer 8: 0.017018497\n",
      "Amount of different weights in Layer 9: 3507 / 36864 (9.513346354166668%)\n",
      "Maximum Difference in Layer 9: 0.027420219\n",
      "Amount of different weights in Layer 10: 13 / 64 (20.3125%)\n",
      "Maximum Difference in Layer 10: 0.012646377\n",
      "Amount of different weights in Layer 11: 6792 / 102400 (6.6328125%)\n",
      "Maximum Difference in Layer 11: 0.022257749\n",
      "Amount of different weights in Layer 12: 9 / 64 (14.0625%)\n",
      "Maximum Difference in Layer 12: 0.017764509\n",
      "Amount of different weights in Layer 13: 15768 / 131072 (12.030029296875%)\n",
      "Maximum Difference in Layer 13: 0.034106907\n",
      "Amount of different weights in Layer 14: 50 / 128 (39.0625%)\n",
      "Maximum Difference in Layer 14: -0.013156295\n",
      "Amount of different weights in Layer 15: 204 / 1280 (15.937499999999998%)\n",
      "Maximum Difference in Layer 15: 0.0116644725\n"
     ]
    }
   ],
   "source": [
    "m1 = tf.keras.models.load_model('new_model/teacher_60')\n",
    "m2 = tf.keras.models.load_model('new_model/student_60')\n",
    "weights_diff(m1, m2)"
   ]
  },
  {
   "cell_type": "code",
   "execution_count": 28,
   "metadata": {},
   "outputs": [
    {
     "name": "stdout",
     "output_type": "stream",
     "text": [
      "Amount of different weights in Layer 1: 6 / 288 (2.083333333333333%)\n",
      "Maximum Difference in Layer 1: 0.016064342\n",
      "Amount of different weights in Layer 2: 1 / 32 (3.125%)\n",
      "Maximum Difference in Layer 2: 0.011428952\n",
      "Amount of different weights in Layer 3: 532 / 9216 (5.772569444444445%)\n",
      "Maximum Difference in Layer 3: 0.029980555\n",
      "Amount of different weights in Layer 4: 3 / 32 (9.375%)\n",
      "Maximum Difference in Layer 4: 0.012086928\n",
      "Amount of different weights in Layer 5: 1540 / 25600 (6.015625%)\n",
      "Maximum Difference in Layer 5: 0.028284604\n",
      "Amount of different weights in Layer 6: 0 / 32 (0.0%)\n",
      "Maximum Difference in Layer 6: 0\n",
      "Amount of different weights in Layer 7: 3439 / 18432 (18.65776909722222%)\n",
      "Maximum Difference in Layer 7: 0.03935665\n",
      "Amount of different weights in Layer 8: 17 / 64 (26.5625%)\n",
      "Maximum Difference in Layer 8: 0.02319169\n",
      "Amount of different weights in Layer 9: 5153 / 36864 (13.978407118055555%)\n",
      "Maximum Difference in Layer 9: 0.02054392\n",
      "Amount of different weights in Layer 10: 8 / 64 (12.5%)\n",
      "Maximum Difference in Layer 10: 0.019122362\n",
      "Amount of different weights in Layer 11: 10029 / 102400 (9.7939453125%)\n",
      "Maximum Difference in Layer 11: 0.028432066\n",
      "Amount of different weights in Layer 12: 10 / 64 (15.625%)\n",
      "Maximum Difference in Layer 12: 0.02006936\n",
      "Amount of different weights in Layer 13: 19747 / 131072 (15.065765380859375%)\n",
      "Maximum Difference in Layer 13: 0.02907634\n",
      "Amount of different weights in Layer 14: 39 / 128 (30.46875%)\n",
      "Maximum Difference in Layer 14: -0.011145353\n",
      "Amount of different weights in Layer 15: 232 / 1280 (18.125%)\n",
      "Maximum Difference in Layer 15: 0.020774264\n"
     ]
    }
   ],
   "source": [
    "m1 = tf.keras.models.load_model('new_model/teacher_60_ok')\n",
    "m2 = tf.keras.models.load_model('new_model/student_60_ok')\n",
    "weights_diff(m1, m2)"
   ]
  },
  {
   "cell_type": "code",
   "execution_count": 9,
   "metadata": {},
   "outputs": [],
   "source": [
    "\"\"\"\n",
    "VS this for 45 epochs!\n",
    "Amount of different weights in Layer 1: 36 / 288 (12.5%)\n",
    "Maximum Difference in Layer 1: 0.023037493\n",
    "Amount of different weights in Layer 2: 4 / 32 (12.5%)\n",
    "Maximum Difference in Layer 2: -0.014052689\n",
    "Amount of different weights in Layer 3: 1991 / 9216 (21.60373263888889%)\n",
    "Maximum Difference in Layer 3: 0.06743105\n",
    "Amount of different weights in Layer 4: 7 / 32 (21.875%)\n",
    "Maximum Difference in Layer 4: 0.017087758\n",
    "Amount of different weights in Layer 5: 6225 / 25600 (24.31640625%)\n",
    "Maximum Difference in Layer 5: 0.036456246\n",
    "Amount of different weights in Layer 6: 13 / 32 (40.625%)\n",
    "Maximum Difference in Layer 6: 0.03385544\n",
    "Amount of different weights in Layer 7: 7947 / 18432 (43.115234375%)\n",
    "Maximum Difference in Layer 7: 0.055770613\n",
    "Amount of different weights in Layer 8: 22 / 64 (34.375%)\n",
    "Maximum Difference in Layer 8: 0.02832669\n",
    "Amount of different weights in Layer 9: 13568 / 36864 (36.80555555555556%)\n",
    "Maximum Difference in Layer 9: 0.050064594\n",
    "Amount of different weights in Layer 10: 28 / 64 (43.75%)\n",
    "Maximum Difference in Layer 10: 0.029283166\n",
    "Amount of different weights in Layer 11: 34855 / 102400 (34.0380859375%)\n",
    "Maximum Difference in Layer 11: 0.050656665\n",
    "Amount of different weights in Layer 12: 21 / 64 (32.8125%)\n",
    "Maximum Difference in Layer 12: 0.030234873\n",
    "Amount of different weights in Layer 13: 54772 / 131072 (41.7877197265625%)\n",
    "Maximum Difference in Layer 13: 0.058894712\n",
    "Amount of different weights in Layer 14: 54 / 128 (42.1875%)\n",
    "Maximum Difference in Layer 14: 0.010142446\n",
    "Amount of different weights in Layer 15: 550 / 1280 (42.96875%)\n",
    "Maximum Difference in Layer 15: 0.020574644\n",
    "\"\"\""
   ]
  },
  {
   "cell_type": "code",
   "execution_count": 29,
   "metadata": {},
   "outputs": [
    {
     "name": "stdout",
     "output_type": "stream",
     "text": [
      "Amount of different weights in Layer 1: 44 / 288 (15.277777777777779%)\n",
      "Maximum Difference in Layer 1: 0.02046936\n",
      "Amount of different weights in Layer 2: 6 / 32 (18.75%)\n",
      "Maximum Difference in Layer 2: 0.022017837\n",
      "Amount of different weights in Layer 3: 2470 / 9216 (26.80121527777778%)\n",
      "Maximum Difference in Layer 3: 0.02648642\n",
      "Amount of different weights in Layer 4: 14 / 32 (43.75%)\n",
      "Maximum Difference in Layer 4: -0.015688896\n",
      "Amount of different weights in Layer 5: 6412 / 25600 (25.046875%)\n",
      "Maximum Difference in Layer 5: 0.04873407\n",
      "Amount of different weights in Layer 6: 11 / 32 (34.375%)\n",
      "Maximum Difference in Layer 6: 0.020807564\n",
      "Amount of different weights in Layer 7: 7795 / 18432 (42.29058159722222%)\n",
      "Maximum Difference in Layer 7: 0.056884345\n",
      "Amount of different weights in Layer 8: 27 / 64 (42.1875%)\n",
      "Maximum Difference in Layer 8: 0.015624464\n",
      "Amount of different weights in Layer 9: 13421 / 36864 (36.40679253472222%)\n",
      "Maximum Difference in Layer 9: 0.042687505\n",
      "Amount of different weights in Layer 10: 28 / 64 (43.75%)\n",
      "Maximum Difference in Layer 10: -0.03271836\n",
      "Amount of different weights in Layer 11: 33676 / 102400 (32.88671875%)\n",
      "Maximum Difference in Layer 11: 0.052834548\n",
      "Amount of different weights in Layer 12: 26 / 64 (40.625%)\n",
      "Maximum Difference in Layer 12: 0.026673198\n",
      "Amount of different weights in Layer 13: 54743 / 131072 (41.765594482421875%)\n",
      "Maximum Difference in Layer 13: 0.0547866\n",
      "Amount of different weights in Layer 14: 48 / 128 (37.5%)\n",
      "Maximum Difference in Layer 14: 0.020988464\n",
      "Amount of different weights in Layer 15: 524 / 1280 (40.9375%)\n",
      "Maximum Difference in Layer 15: 0.055155836\n"
     ]
    }
   ],
   "source": [
    "m1 = tf.keras.models.load_model('new_model/teacher_45')\n",
    "m2 = tf.keras.models.load_model('new_model/student_45')\n",
    "weights_diff(m1, m2)"
   ]
  },
  {
   "cell_type": "code",
   "execution_count": 9,
   "metadata": {},
   "outputs": [
    {
     "data": {
      "application/vnd.jupyter.widget-view+json": {
       "model_id": "858455fbf036409da69fd8fc6bc71222",
       "version_major": 2,
       "version_minor": 0
      },
      "text/plain": [
       "Canvas(toolbar=Toolbar(toolitems=[('Home', 'Reset original view', 'home', 'home'), ('Back', 'Back to previous …"
      ]
     },
     "metadata": {},
     "output_type": "display_data"
    }
   ],
   "source": [
    "# Visualizing difference between s and t\n",
    "w1 = m1.layers[15].get_weights()[0]\n",
    "w2 = m2.layers[15].get_weights()[0]\n",
    "\n",
    "import numpy as np\n",
    "\n",
    "diff = np.abs(w1-w2)\n",
    "\n",
    "import matplotlib.pyplot as plt\n",
    "%matplotlib widget\n",
    "\n",
    "plt.imshow(diff.T, cmap='hot', interpolation='nearest')\n",
    "plt.colorbar()\n",
    "plt.show()"
   ]
  },
  {
   "cell_type": "code",
   "execution_count": 30,
   "metadata": {},
   "outputs": [
    {
     "name": "stdout",
     "output_type": "stream",
     "text": [
      "Amount of different weights in Layer 1: 296 / 324 (91.35802469135803%)\n",
      "Maximum Difference in Layer 1: 0.015661351\n",
      "Amount of different weights in Layer 2: 11087 / 11664 (95.05315500685872%)\n",
      "Maximum Difference in Layer 2: 1.1698422\n",
      "Amount of different weights in Layer 3: 11212 / 11664 (96.12482853223594%)\n",
      "Maximum Difference in Layer 3: 1.2826365\n",
      "Amount of different weights in Layer 4: 11294 / 11664 (96.8278463648834%)\n",
      "Maximum Difference in Layer 4: 0.5637317\n",
      "Amount of different weights in Layer 5: 873534 / 903168 (96.71888286564626%)\n",
      "Maximum Difference in Layer 5: 1.2384539\n",
      "Amount of different weights in Layer 6: 487 / 512 (95.1171875%)\n",
      "Maximum Difference in Layer 6: 0.41858017\n",
      "Amount of different weights in Layer 7: 4885 / 5120 (95.41015625%)\n",
      "Maximum Difference in Layer 7: 0.5450693\n"
     ]
    }
   ],
   "source": [
    "m1 = tf.keras.models.load_model('old_model/teacher_old_30')\n",
    "m2 = tf.keras.models.load_model('old_model/student_old_30')\n",
    "weights_diff(m1, m2)"
   ]
  },
  {
   "cell_type": "code",
   "execution_count": 22,
   "metadata": {},
   "outputs": [
    {
     "name": "stdout",
     "output_type": "stream",
     "text": [
      "Amount of different weights in Layer 1: 302 / 324 (93.20987654320987%)\n",
      "Maximum Difference in Layer 1: 0.6543564\n",
      "Amount of different weights in Layer 2: 10803 / 11664 (92.61831275720165%)\n",
      "Maximum Difference in Layer 2: 0.8881267\n",
      "Amount of different weights in Layer 3: 10759 / 11664 (92.24108367626886%)\n",
      "Maximum Difference in Layer 3: 0.94008815\n",
      "Amount of different weights in Layer 4: 11209 / 11664 (96.09910836762688%)\n",
      "Maximum Difference in Layer 4: 0.9472385\n",
      "Amount of different weights in Layer 5: 870925 / 903168 (96.4300108064059%)\n",
      "Maximum Difference in Layer 5: 1.1956201\n",
      "Amount of different weights in Layer 6: 475 / 512 (92.7734375%)\n",
      "Maximum Difference in Layer 6: 0.27345526\n",
      "Amount of different weights in Layer 7: 4838 / 5120 (94.4921875%)\n",
      "Maximum Difference in Layer 7: 0.8139478\n"
     ]
    }
   ],
   "source": [
    "m1 = tf.keras.models.load_model('old_model/teacher_old')\n",
    "m2 = tf.keras.models.load_model('old_model/student_old')\n",
    "weights_diff(m1, m2)"
   ]
  },
  {
   "cell_type": "code",
   "execution_count": 31,
   "metadata": {},
   "outputs": [
    {
     "name": "stdout",
     "output_type": "stream",
     "text": [
      "Amount of different weights in Layer 1: 302 / 324 (93.20987654320987%)\n",
      "Maximum Difference in Layer 1: 0.026842967\n",
      "Amount of different weights in Layer 2: 11049 / 11664 (94.72736625514403%)\n",
      "Maximum Difference in Layer 2: 0.82972\n",
      "Amount of different weights in Layer 3: 11129 / 11664 (95.41323731138546%)\n",
      "Maximum Difference in Layer 3: 1.1435525\n",
      "Amount of different weights in Layer 4: 11307 / 11664 (96.93930041152264%)\n",
      "Maximum Difference in Layer 4: 1.0192026\n",
      "Amount of different weights in Layer 5: 871394 / 903168 (96.4819391298186%)\n",
      "Maximum Difference in Layer 5: 1.204811\n",
      "Amount of different weights in Layer 6: 468 / 512 (91.40625%)\n",
      "Maximum Difference in Layer 6: 0.16846478\n",
      "Amount of different weights in Layer 7: 4855 / 5120 (94.82421875%)\n",
      "Maximum Difference in Layer 7: 0.7377503\n"
     ]
    }
   ],
   "source": [
    "m1 = tf.keras.models.load_model('old_model/teacher_old_50')\n",
    "m2 = tf.keras.models.load_model('old_model/student_old_50')\n",
    "weights_diff(m1, m2)"
   ]
  },
  {
   "cell_type": "code",
   "execution_count": null,
   "metadata": {},
   "outputs": [],
   "source": []
  }
 ],
 "metadata": {
  "kernelspec": {
   "display_name": "Python 3",
   "language": "python",
   "name": "python3"
  },
  "language_info": {
   "codemirror_mode": {
    "name": "ipython",
    "version": 3
   },
   "file_extension": ".py",
   "mimetype": "text/x-python",
   "name": "python",
   "nbconvert_exporter": "python",
   "pygments_lexer": "ipython3",
   "version": "3.8.6"
  }
 },
 "nbformat": 4,
 "nbformat_minor": 4
}
