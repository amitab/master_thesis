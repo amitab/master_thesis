{
 "cells": [
  {
   "cell_type": "code",
   "execution_count": 1,
   "metadata": {},
   "outputs": [],
   "source": [
    "import keras\n",
    "import tensorflow as tf\n",
    "import tensorflow_addons as tfa\n",
    "import keras_wrn\n",
    "\n",
    "import matplotlib.pyplot as plt\n",
    "\n",
    "from keras.optimizers import SGD\n",
    "\n",
    "(x_train, y_train), (x_test, y_test) = keras.datasets.cifar10.load_data()\n",
    "y_train = keras.utils.to_categorical(y_train)\n",
    "y_test = keras.utils.to_categorical(y_test)\n",
    "\n",
    "shape, classes = (32, 32, 3), 10"
   ]
  },
  {
   "cell_type": "code",
   "execution_count": 16,
   "metadata": {},
   "outputs": [],
   "source": [
    "import numpy as np\n",
    "\n",
    "def weights_diff(model1, model2):\n",
    "    model_diff = []\n",
    "    layer_sizes = []\n",
    "    for i in range(len(model1.layers)):\n",
    "      if len(model1.layers[i].get_weights()) > 0:\n",
    "#         print(\"Layer \" + str(i + 1) + \":\")\n",
    "        layer_diff = model1.layers[i].get_weights()[0] - model2.layers[i].get_weights()[0]\n",
    "        model_diff.append(layer_diff)\n",
    "#         print(layer_diff)\n",
    "    for i in range(len(model_diff)):\n",
    "      current_layer_size = 0\n",
    "      total_nonzero = 0\n",
    "      max = 0\n",
    "      for cell in np.nditer(model_diff[i]):\n",
    "        current_layer_size += 1\n",
    "        if abs(cell) > 0.001:\n",
    "          total_nonzero += 1\n",
    "          if abs(cell) > max:\n",
    "            max = cell\n",
    "      percentage_diff = ((total_nonzero * 1.) / current_layer_size) * 100\n",
    "      print(\"Amount of different weights in Layer \" + str(i + 1) + \": \" + str(total_nonzero)\n",
    "            + \" / \" + str(current_layer_size) + \" (\" + str(percentage_diff) + \"%)\")\n",
    "      print(\"Maximum Difference in Layer \" + str(i+1) + \": \" + str(max))\n",
    "      layer_sizes.append(current_layer_size)\n",
    "\n",
    "        \n",
    "def weights_diff_stats(model1, model2):\n",
    "    model_diff = []\n",
    "    layer_sizes = []\n",
    "    for i in range(len(model1.layers)):\n",
    "      if len(model1.layers[i].get_weights()) > 0:\n",
    "#         print(\"Layer \" + str(i + 1) + \":\")\n",
    "        layer_diff = model1.layers[i].get_weights()[0] - model2.layers[i].get_weights()[0]\n",
    "        model_diff.append(layer_diff)\n",
    "#         print(layer_diff)\n",
    "    res = []\n",
    "    for i in range(len(model_diff)):\n",
    "      current_layer_size = 0\n",
    "      total_nonzero = 0\n",
    "      max = 0\n",
    "      for cell in np.nditer(model_diff[i]):\n",
    "        current_layer_size += 1\n",
    "        if abs(cell) > 0.001:\n",
    "          total_nonzero += 1\n",
    "          if abs(cell) > max:\n",
    "            max = cell\n",
    "      percentage_diff = ((total_nonzero * 1.) / current_layer_size) * 100\n",
    "      res.append(percentage_diff)\n",
    "#       print(\"Amount of different weights in Layer \" + str(i + 1) + \": \" + str(total_nonzero)\n",
    "#             + \" / \" + str(current_layer_size) + \" (\" + str(percentage_diff) + \"%)\")\n",
    "#       print(\"Maximum Difference in Layer \" + str(i+1) + \": \" + str(max))\n",
    "      layer_sizes.append(current_layer_size)\n",
    "    return res\n",
    "\n",
    "def epoch_weight_diff(m1_prefix, m2_prefix):\n",
    "    res = []\n",
    "    for i in [50, 100]:\n",
    "        t = 'model_ckpt/{}-{}'.format(m1_prefix, str(i).zfill(2))\n",
    "        s = '{}-{}'.format(m2_prefix, str(i).zfill(2))\n",
    "\n",
    "        m1 = tf.keras.models.load_model(t)\n",
    "        m2 = tf.keras.models.load_model(s)\n",
    "\n",
    "        stats = weights_diff_stats(m1, m2)\n",
    "        res.append(stats)\n",
    "    \n",
    "    lines = []\n",
    "    for j in range(len(res[0])):\n",
    "        line = []\n",
    "        for i in range(len(res)):\n",
    "            line.append(res[i][j])\n",
    "        lines.append(line)\n",
    "    return lines"
   ]
  },
  {
   "cell_type": "code",
   "execution_count": 3,
   "metadata": {},
   "outputs": [],
   "source": [
    "m1 = tf.keras.models.load_model('models/1_resnet_28_2')\n",
    "m2 = tf.keras.models.load_model('models/2_resnet_28_2')\n",
    "m3 = tf.keras.models.load_model('models/3_resnet_28_2')"
   ]
  },
  {
   "cell_type": "code",
   "execution_count": 18,
   "metadata": {},
   "outputs": [
    {
     "data": {
      "image/png": "[encoded data removed]",
      "text/plain": [
       "<Figure size 432x288 with 1 Axes>"
      ]
     },
     "metadata": {
      "needs_background": "light"
     },
     "output_type": "display_data"
    },
    {
     "name": "stdout",
     "output_type": "stream",
     "text": [
      "313/313 [==============================] - 38s 123ms/step - loss: 1.0335 - accuracy: 0.6942\n",
      "313/313 [==============================] - 39s 125ms/step - loss: 0.8381 - accuracy: 0.7859\n"
     ]
    },
    {
     "data": {
      "text/plain": [
       "[0.8381226658821106, 0.7858999967575073]"
      ]
     },
     "execution_count": 18,
     "metadata": {},
     "output_type": "execute_result"
    }
   ],
   "source": [
    "# weights_diff(m1, m2)\n",
    "\n",
    "stats = weights_diff_stats(m1, m2)\n",
    "\n",
    "fig = plt.figure()\n",
    "ax = fig.add_axes([0,0,2,2])\n",
    "layers = [f\"{i}\" for i in range(len(stats))]\n",
    "ax.barh(layers,stats)\n",
    "\n",
    "plt.ylabel('Layers', fontsize=16)\n",
    "plt.xlabel('% difference > 0.01', fontsize=16)\n",
    "\n",
    "plt.show()\n",
    "\n",
    "fig.savefig(\"resnet_sgdw_1_2_comp.jpg\", bbox_inches='tight', dpi=300)\n",
    "\n",
    "m1.evaluate(x_test, y_test)\n",
    "m2.evaluate(x_test, y_test)"
   ]
  },
  {
   "cell_type": "code",
   "execution_count": 11,
   "metadata": {},
   "outputs": [
    {
     "ename": "KeyboardInterrupt",
     "evalue": "",
     "output_type": "error",
     "traceback": [
      "\u001b[0;31m---------------------------------------------------------------------------\u001b[0m",
      "\u001b[0;31mKeyboardInterrupt\u001b[0m                         Traceback (most recent call last)",
      "\u001b[0;32m<ipython-input-11-f1cae7bb77bd>\u001b[0m in \u001b[0;36m<module>\u001b[0;34m\u001b[0m\n\u001b[1;32m      1\u001b[0m \u001b[0;31m# weights_diff(m2, m3)\u001b[0m\u001b[0;34m\u001b[0m\u001b[0;34m\u001b[0m\u001b[0;34m\u001b[0m\u001b[0m\n\u001b[1;32m      2\u001b[0m \u001b[0;34m\u001b[0m\u001b[0m\n\u001b[0;32m----> 3\u001b[0;31m \u001b[0mstats\u001b[0m \u001b[0;34m=\u001b[0m \u001b[0mweights_diff_stats\u001b[0m\u001b[0;34m(\u001b[0m\u001b[0mm2\u001b[0m\u001b[0;34m,\u001b[0m \u001b[0mm3\u001b[0m\u001b[0;34m)\u001b[0m\u001b[0;34m\u001b[0m\u001b[0;34m\u001b[0m\u001b[0m\n\u001b[0m\u001b[1;32m      4\u001b[0m \u001b[0;34m\u001b[0m\u001b[0m\n\u001b[1;32m      5\u001b[0m \u001b[0mfig\u001b[0m \u001b[0;34m=\u001b[0m \u001b[0mplt\u001b[0m\u001b[0;34m.\u001b[0m\u001b[0mfigure\u001b[0m\u001b[0;34m(\u001b[0m\u001b[0;34m)\u001b[0m\u001b[0;34m\u001b[0m\u001b[0;34m\u001b[0m\u001b[0m\n",
      "\u001b[0;32m<ipython-input-2-19b3d01f969d>\u001b[0m in \u001b[0;36mweights_diff_stats\u001b[0;34m(model1, model2)\u001b[0m\n\u001b[1;32m     43\u001b[0m       \u001b[0;32mfor\u001b[0m \u001b[0mcell\u001b[0m \u001b[0;32min\u001b[0m \u001b[0mnp\u001b[0m\u001b[0;34m.\u001b[0m\u001b[0mnditer\u001b[0m\u001b[0;34m(\u001b[0m\u001b[0mmodel_diff\u001b[0m\u001b[0;34m[\u001b[0m\u001b[0mi\u001b[0m\u001b[0;34m]\u001b[0m\u001b[0;34m)\u001b[0m\u001b[0;34m:\u001b[0m\u001b[0;34m\u001b[0m\u001b[0;34m\u001b[0m\u001b[0m\n\u001b[1;32m     44\u001b[0m         \u001b[0mcurrent_layer_size\u001b[0m \u001b[0;34m+=\u001b[0m \u001b[0;36m1\u001b[0m\u001b[0;34m\u001b[0m\u001b[0;34m\u001b[0m\u001b[0m\n\u001b[0;32m---> 45\u001b[0;31m         \u001b[0;32mif\u001b[0m \u001b[0mabs\u001b[0m\u001b[0;34m(\u001b[0m\u001b[0mcell\u001b[0m\u001b[0;34m)\u001b[0m \u001b[0;34m>\u001b[0m \u001b[0;36m0.01\u001b[0m\u001b[0;34m:\u001b[0m\u001b[0;34m\u001b[0m\u001b[0;34m\u001b[0m\u001b[0m\n\u001b[0m\u001b[1;32m     46\u001b[0m           \u001b[0mtotal_nonzero\u001b[0m \u001b[0;34m+=\u001b[0m \u001b[0;36m1\u001b[0m\u001b[0;34m\u001b[0m\u001b[0;34m\u001b[0m\u001b[0m\n\u001b[1;32m     47\u001b[0m           \u001b[0;32mif\u001b[0m \u001b[0mabs\u001b[0m\u001b[0;34m(\u001b[0m\u001b[0mcell\u001b[0m\u001b[0;34m)\u001b[0m \u001b[0;34m>\u001b[0m \u001b[0mmax\u001b[0m\u001b[0;34m:\u001b[0m\u001b[0;34m\u001b[0m\u001b[0;34m\u001b[0m\u001b[0m\n",
      "\u001b[0;31mKeyboardInterrupt\u001b[0m: "
     ]
    }
   ],
   "source": [
    "# weights_diff(m2, m3)\n",
    "\n",
    "stats = weights_diff_stats(m2, m3)\n",
    "\n",
    "fig = plt.figure()\n",
    "ax = fig.add_axes([0,0,2,2])\n",
    "layers = [f\"{i}\" for i in range(len(stats))]\n",
    "ax.bar(layers,stats)\n",
    "\n",
    "ax.set_xlabel(\"layers\")\n",
    "ax.set_ylabel(\"% difference > 0.01\")\n",
    "\n",
    "plt.show()\n",
    "\n",
    "m2.evaluate(x_test, y_test)\n",
    "m3.evaluate(x_test, y_test)"
   ]
  },
  {
   "cell_type": "code",
   "execution_count": 17,
   "metadata": {},
   "outputs": [],
   "source": [
    "y1 = m1.predict(x_test)\n",
    "y2 = m2.predict(x_test)\n",
    "y3 = m3.predict(x_test)"
   ]
  },
  {
   "cell_type": "code",
   "execution_count": 18,
   "metadata": {},
   "outputs": [
    {
     "data": {
      "text/plain": [
       "0.8028"
      ]
     },
     "execution_count": 18,
     "metadata": {},
     "output_type": "execute_result"
    }
   ],
   "source": [
    "y = (y1 + y2 + y3) / 3\n",
    "y = np.argmax(y, axis=1)\n",
    "t_y = np.argmax(y_test, axis=1)\n",
    "\n",
    "1 - np.count_nonzero(np.abs(y - t_y))/y.shape[0]"
   ]
  },
  {
   "cell_type": "code",
   "execution_count": 18,
   "metadata": {},
   "outputs": [],
   "source": [
    "k1 = tf.keras.models.load_model('models/SGD_1_resnet_28_2')\n",
    "k2 = tf.keras.models.load_model('models/SGD_2_resnet_28_2')\n",
    "k3 = tf.keras.models.load_model('models/SGD_3_cont_resnet_28_2')"
   ]
  },
  {
   "cell_type": "code",
   "execution_count": 19,
   "metadata": {},
   "outputs": [
    {
     "data": {
      "image/png": "[encoded data removed]",
      "text/plain": [
       "<Figure size 432x288 with 1 Axes>"
      ]
     },
     "metadata": {
      "needs_background": "light"
     },
     "output_type": "display_data"
    },
    {
     "name": "stdout",
     "output_type": "stream",
     "text": [
      "313/313 [==============================] - 35s 111ms/step - loss: 0.9284 - accuracy: 0.8724\n",
      "313/313 [==============================] - 37s 117ms/step - loss: 0.9006 - accuracy: 0.8710\n"
     ]
    },
    {
     "data": {
      "text/plain": [
       "[0.900629997253418, 0.8709999918937683]"
      ]
     },
     "execution_count": 19,
     "metadata": {},
     "output_type": "execute_result"
    }
   ],
   "source": [
    "# weights_diff(k1, k2)\n",
    "\n",
    "stats = weights_diff_stats(k1, k2)\n",
    "\n",
    "fig = plt.figure()\n",
    "ax = fig.add_axes([0,0,2,2])\n",
    "layers = [f\"{i}\" for i in range(len(stats))]\n",
    "ax.bar(layers,stats)\n",
    "plt.show()\n",
    "\n",
    "k1.evaluate(x_test, y_test)\n",
    "k2.evaluate(x_test, y_test)"
   ]
  },
  {
   "cell_type": "code",
   "execution_count": 21,
   "metadata": {},
   "outputs": [
    {
     "data": {
      "image/png": "[encoded data removed]",
      "text/plain": [
       "<Figure size 432x288 with 1 Axes>"
      ]
     },
     "metadata": {
      "needs_background": "light"
     },
     "output_type": "display_data"
    },
    {
     "name": "stdout",
     "output_type": "stream",
     "text": [
      "313/313 [==============================] - 37s 119ms/step - loss: 0.9006 - accuracy: 0.8710\n",
      "313/313 [==============================] - 37s 117ms/step - loss: 0.9041 - accuracy: 0.8740\n"
     ]
    },
    {
     "data": {
      "text/plain": [
       "[0.9041303992271423, 0.8740000128746033]"
      ]
     },
     "execution_count": 21,
     "metadata": {},
     "output_type": "execute_result"
    }
   ],
   "source": [
    "# weights_diff(k2, k3)\n",
    "\n",
    "stats = weights_diff_stats(k2, k3)\n",
    "\n",
    "fig = plt.figure()\n",
    "ax = fig.add_axes([0,0,2,2])\n",
    "layers = [f\"{i}\" for i in range(len(stats))]\n",
    "ax.bar(layers,stats)\n",
    "plt.show()\n",
    "\n",
    "k2.evaluate(x_test, y_test)\n",
    "k3.evaluate(x_test, y_test)"
   ]
  },
  {
   "cell_type": "code",
   "execution_count": 19,
   "metadata": {},
   "outputs": [],
   "source": [
    "y1 = k1.predict(x_test)\n",
    "y2 = k2.predict(x_test)\n",
    "y3 = k3.predict(x_test)"
   ]
  },
  {
   "cell_type": "code",
   "execution_count": 20,
   "metadata": {},
   "outputs": [
    {
     "data": {
      "text/plain": [
       "0.8927"
      ]
     },
     "execution_count": 20,
     "metadata": {},
     "output_type": "execute_result"
    }
   ],
   "source": [
    "y = (y1 + y2 + y3) / 3\n",
    "y = np.argmax(y, axis=1)\n",
    "t_y = np.argmax(y_test, axis=1)\n",
    "\n",
    "1 - np.count_nonzero(np.abs(y - t_y))/y.shape[0]"
   ]
  },
  {
   "cell_type": "code",
   "execution_count": 4,
   "metadata": {},
   "outputs": [],
   "source": [
    "# Check the checkpointed models at epoch 50 for SGDW\n",
    "\n",
    "c1 = tf.keras.models.load_model('model_ckpt/1_resnet_28_2_50')\n",
    "c2 = tf.keras.models.load_model('model_ckpt/2_resnet_28_2_50')\n",
    "c3 = tf.keras.models.load_model('model_ckpt/3_resnet_28_2_50')"
   ]
  },
  {
   "cell_type": "code",
   "execution_count": 10,
   "metadata": {},
   "outputs": [
    {
     "data": {
      "image/png": "[encoded data removed]",
      "text/plain": [
       "<Figure size 432x288 with 1 Axes>"
      ]
     },
     "metadata": {
      "needs_background": "light"
     },
     "output_type": "display_data"
    },
    {
     "name": "stdout",
     "output_type": "stream",
     "text": [
      "313/313 [==============================] - 34s 107ms/step - loss: 0.7973 - accuracy: 0.7524\n",
      "313/313 [==============================] - 35s 111ms/step - loss: 1.7014 - accuracy: 0.5711\n"
     ]
    },
    {
     "data": {
      "text/plain": [
       "[1.701445460319519, 0.5710999965667725]"
      ]
     },
     "execution_count": 10,
     "metadata": {},
     "output_type": "execute_result"
    }
   ],
   "source": [
    "# weights_diff(c1, c2)\n",
    "\n",
    "stats = weights_diff_stats(c1, c2)\n",
    "\n",
    "fig = plt.figure()\n",
    "ax = fig.add_axes([0,0,2,2])\n",
    "layers = [f\"{i}\" for i in range(len(stats))]\n",
    "ax.bar(layers,stats)\n",
    "plt.show()\n",
    "\n",
    "c1.evaluate(x_test, y_test)\n",
    "c2.evaluate(x_test, y_test)"
   ]
  },
  {
   "cell_type": "code",
   "execution_count": 11,
   "metadata": {},
   "outputs": [
    {
     "data": {
      "image/png": "[encoded data removed]",
      "text/plain": [
       "<Figure size 432x288 with 1 Axes>"
      ]
     },
     "metadata": {
      "needs_background": "light"
     },
     "output_type": "display_data"
    },
    {
     "name": "stdout",
     "output_type": "stream",
     "text": [
      "313/313 [==============================] - 36s 116ms/step - loss: 1.7014 - accuracy: 0.5711\n",
      "313/313 [==============================] - 36s 115ms/step - loss: 1.5861 - accuracy: 0.5740\n"
     ]
    },
    {
     "data": {
      "text/plain": [
       "[1.5861197710037231, 0.5740000009536743]"
      ]
     },
     "execution_count": 11,
     "metadata": {},
     "output_type": "execute_result"
    }
   ],
   "source": [
    "# weights_diff(c2, c3)\n",
    "\n",
    "stats = weights_diff_stats(c2, c3)\n",
    "\n",
    "fig = plt.figure()\n",
    "ax = fig.add_axes([0,0,2,2])\n",
    "layers = [f\"{i}\" for i in range(len(stats))]\n",
    "ax.bar(layers,stats)\n",
    "plt.show()\n",
    "\n",
    "c2.evaluate(x_test, y_test)\n",
    "c3.evaluate(x_test, y_test)"
   ]
  },
  {
   "cell_type": "code",
   "execution_count": 12,
   "metadata": {},
   "outputs": [
    {
     "data": {
      "image/png": "[encoded data removed]",
      "text/plain": [
       "<Figure size 432x288 with 1 Axes>"
      ]
     },
     "metadata": {
      "needs_background": "light"
     },
     "output_type": "display_data"
    },
    {
     "name": "stdout",
     "output_type": "stream",
     "text": [
      "313/313 [==============================] - 36s 117ms/step - loss: 0.7973 - accuracy: 0.7524\n",
      "313/313 [==============================] - 36s 114ms/step - loss: 1.5861 - accuracy: 0.5740\n"
     ]
    },
    {
     "data": {
      "text/plain": [
       "[1.5861197710037231, 0.5740000009536743]"
      ]
     },
     "execution_count": 12,
     "metadata": {},
     "output_type": "execute_result"
    }
   ],
   "source": [
    "# weights_diff(c1, c3)\n",
    "\n",
    "stats = weights_diff_stats(c1, c3)\n",
    "\n",
    "fig = plt.figure()\n",
    "ax = fig.add_axes([0,0,2,2])\n",
    "layers = [f\"{i}\" for i in range(len(stats))]\n",
    "ax.bar(layers,stats)\n",
    "plt.show()\n",
    "\n",
    "c1.evaluate(x_test, y_test)\n",
    "c3.evaluate(x_test, y_test)"
   ]
  },
  {
   "cell_type": "code",
   "execution_count": 22,
   "metadata": {},
   "outputs": [],
   "source": [
    "# Check the checkpointed models at epoch 100 for SGDW\n",
    "\n",
    "c1 = tf.keras.models.load_model('model_ckpt/1_resnet_28_2_100')\n",
    "c2 = tf.keras.models.load_model('model_ckpt/2_resnet_28_2_100')\n",
    "c3 = tf.keras.models.load_model('model_ckpt/3_resnet_28_2_100')"
   ]
  },
  {
   "cell_type": "code",
   "execution_count": 23,
   "metadata": {},
   "outputs": [
    {
     "data": {
      "image/png": "[encoded data removed]",
      "text/plain": [
       "<Figure size 432x288 with 1 Axes>"
      ]
     },
     "metadata": {
      "needs_background": "light"
     },
     "output_type": "display_data"
    },
    {
     "name": "stdout",
     "output_type": "stream",
     "text": [
      "313/313 [==============================] - 34s 110ms/step - loss: 0.7198 - accuracy: 0.7762\n",
      "313/313 [==============================] - 36s 115ms/step - loss: 0.6417 - accuracy: 0.8019\n"
     ]
    },
    {
     "data": {
      "text/plain": [
       "[0.6417401432991028, 0.8019000291824341]"
      ]
     },
     "execution_count": 23,
     "metadata": {},
     "output_type": "execute_result"
    }
   ],
   "source": [
    "# weights_diff(c1, c2)\n",
    "\n",
    "stats = weights_diff_stats(c1, c2)\n",
    "\n",
    "fig = plt.figure()\n",
    "ax = fig.add_axes([0,0,2,2])\n",
    "layers = [f\"{i}\" for i in range(len(stats))]\n",
    "ax.bar(layers,stats)\n",
    "plt.show()\n",
    "\n",
    "c1.evaluate(x_test, y_test)\n",
    "c2.evaluate(x_test, y_test)"
   ]
  },
  {
   "cell_type": "code",
   "execution_count": 24,
   "metadata": {},
   "outputs": [
    {
     "data": {
      "image/png": "[encoded data removed]",
      "text/plain": [
       "<Figure size 432x288 with 1 Axes>"
      ]
     },
     "metadata": {
      "needs_background": "light"
     },
     "output_type": "display_data"
    },
    {
     "name": "stdout",
     "output_type": "stream",
     "text": [
      "313/313 [==============================] - 38s 120ms/step - loss: 0.6417 - accuracy: 0.8019\n",
      "313/313 [==============================] - 38s 121ms/step - loss: 0.7503 - accuracy: 0.7705\n"
     ]
    },
    {
     "data": {
      "text/plain": [
       "[0.7502716183662415, 0.7705000042915344]"
      ]
     },
     "execution_count": 24,
     "metadata": {},
     "output_type": "execute_result"
    }
   ],
   "source": [
    "# weights_diff(c2, c3)\n",
    "\n",
    "stats = weights_diff_stats(c2, c3)\n",
    "\n",
    "fig = plt.figure()\n",
    "ax = fig.add_axes([0,0,2,2])\n",
    "layers = [f\"{i}\" for i in range(len(stats))]\n",
    "ax.bar(layers,stats)\n",
    "plt.show()\n",
    "\n",
    "c2.evaluate(x_test, y_test)\n",
    "c3.evaluate(x_test, y_test)"
   ]
  },
  {
   "cell_type": "code",
   "execution_count": 25,
   "metadata": {},
   "outputs": [
    {
     "data": {
      "image/png": "[encoded data removed]",
      "text/plain": [
       "<Figure size 432x288 with 1 Axes>"
      ]
     },
     "metadata": {
      "needs_background": "light"
     },
     "output_type": "display_data"
    },
    {
     "name": "stdout",
     "output_type": "stream",
     "text": [
      "313/313 [==============================] - 38s 123ms/step - loss: 0.7198 - accuracy: 0.7762\n",
      "313/313 [==============================] - 36s 114ms/step - loss: 0.7503 - accuracy: 0.7705\n"
     ]
    },
    {
     "data": {
      "text/plain": [
       "[0.7502716183662415, 0.7705000042915344]"
      ]
     },
     "execution_count": 25,
     "metadata": {},
     "output_type": "execute_result"
    }
   ],
   "source": [
    "# weights_diff(c1, c3)\n",
    "\n",
    "stats = weights_diff_stats(c1, c3)\n",
    "\n",
    "fig = plt.figure()\n",
    "ax = fig.add_axes([0,0,2,2])\n",
    "layers = [f\"{i}\" for i in range(len(stats))]\n",
    "ax.bar(layers,stats)\n",
    "plt.show()\n",
    "\n",
    "c1.evaluate(x_test, y_test)\n",
    "c3.evaluate(x_test, y_test)"
   ]
  },
  {
   "cell_type": "code",
   "execution_count": 26,
   "metadata": {},
   "outputs": [
    {
     "data": {
      "text/plain": [
       "0.817"
      ]
     },
     "execution_count": 26,
     "metadata": {},
     "output_type": "execute_result"
    }
   ],
   "source": [
    "y1 = c1.predict(x_test)\n",
    "y2 = c2.predict(x_test)\n",
    "y3 = c3.predict(x_test)\n",
    "\n",
    "y = (y1 + y2 + y3) / 3\n",
    "y = np.argmax(y, axis=1)\n",
    "t_y = np.argmax(y_test, axis=1)\n",
    "\n",
    "1 - np.count_nonzero(np.abs(y - t_y))/y.shape[0]"
   ]
  },
  {
   "cell_type": "code",
   "execution_count": null,
   "metadata": {},
   "outputs": [],
   "source": []
  }
 ],
 "metadata": {
  "kernelspec": {
   "display_name": "Python 3",
   "language": "python",
   "name": "python3"
  },
  "language_info": {
   "codemirror_mode": {
    "name": "ipython",
    "version": 3
   },
   "file_extension": ".py",
   "mimetype": "text/x-python",
   "name": "python",
   "nbconvert_exporter": "python",
   "pygments_lexer": "ipython3",
   "version": "3.8.6"
  }
 },
 "nbformat": 4,
 "nbformat_minor": 4
}
