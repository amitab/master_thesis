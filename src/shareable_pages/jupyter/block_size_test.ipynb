{
 "cells": [
  {
   "cell_type": "markdown",
   "metadata": {},
   "source": [
    "# Experiment 1: Block size vs similarity of each block"
   ]
  },
  {
   "cell_type": "code",
   "execution_count": 3,
   "metadata": {},
   "outputs": [],
   "source": [
    "import tensorflow as tf\n",
    "import numpy as np"
   ]
  },
  {
   "cell_type": "code",
   "execution_count": 4,
   "metadata": {},
   "outputs": [
    {
     "name": "stdout",
     "output_type": "stream",
     "text": [
      "Downloading data from https://storage.googleapis.com/tensorflow/keras-applications/vgg19/vgg19_weights_tf_dim_ordering_tf_kernels.h5\n",
      "574717952/574710816 [==============================] - 68s 0us/step\n",
      "Downloading data from https://storage.googleapis.com/tensorflow/keras-applications/nasnet/NASNet-large.h5\n",
      "359751680/359748576 [==============================] - 40s 0us/step\n"
     ]
    }
   ],
   "source": [
    "def save_model_layer(m, i, name):\n",
    "    m = m.layers[i].weights[0].numpy()\n",
    "    np.savetxt(name, m, header=\"{},{}\".format(*m.shape))\n",
    "\n",
    "vgg19 = tf.keras.applications.VGG19(\n",
    "    include_top=True,\n",
    "    weights=\"imagenet\",\n",
    "    input_tensor=None,\n",
    "    input_shape=None,\n",
    "    pooling=None,\n",
    "    classes=1000,\n",
    "    classifier_activation=\"softmax\",\n",
    ")\n",
    "\n",
    "# resnet152 = tf.keras.applications.ResNet152(\n",
    "#     include_top=True,\n",
    "#     weights=\"imagenet\",\n",
    "#     input_tensor=None,\n",
    "#     input_shape=None,\n",
    "#     pooling=None,\n",
    "#     classes=1000)\n",
    "\n",
    "nasnetlarge = tf.keras.applications.NASNetLarge(\n",
    "    input_shape=None,\n",
    "    include_top=True,\n",
    "    weights=\"imagenet\",\n",
    "    input_tensor=None,\n",
    "    pooling=None,\n",
    "    classes=1000,\n",
    ")\n",
    "\n",
    "# save_model_layer(vgg19, -3, \"vgg19.np\")\n",
    "# save_model_layer(resnet152, -1, \"resnet152.np\")\n",
    "\n",
    "save_model_layer(vgg19, -1, \"vgg19_-1.np\")\n",
    "save_model_layer(nasnetlarge, -1, \"resnet152_-1.np\")"
   ]
  },
  {
   "cell_type": "code",
   "execution_count": 32,
   "metadata": {},
   "outputs": [],
   "source": [
    "import math\n",
    "\n",
    "def split_matrix(array, nrows, ncols):\n",
    "    assert len(array.shape) == 2\n",
    "    \"\"\"Split a matrix into sub-matrices.\"\"\"\n",
    "    r, h = array.shape\n",
    "    if r % nrows != 0:\n",
    "        padding = (math.ceil(r / nrows) * nrows) - r\n",
    "        array = np.vstack((array, np.zeros((padding, h))))\n",
    "        r, h = array.shape\n",
    "    if h % ncols != 0:\n",
    "        padding = (math.ceil(h / ncols) * ncols) - h\n",
    "        array = np.hstack((array, np.zeros((r, padding))))\n",
    "        r, h = array.shape\n",
    "    num_x_blocks = math.ceil(r / float(nrows))\n",
    "    num_y_blocks = math.ceil(h / float(ncols))\n",
    "\n",
    "    rows = np.vsplit(array, num_x_blocks)\n",
    "    blocks = [np.hsplit(row, num_y_blocks) for row in rows]\n",
    "    ret = [j for i in blocks for j in i]\n",
    "\n",
    "    assert len(ret) == num_x_blocks * num_y_blocks\n",
    "    assert isinstance(ret[0], np.ndarray)\n",
    "    return ret\n",
    "\n",
    "def compare_block_sets(s1, s2, sim_thresholds, fp_thresholds):\n",
    "    info = {\n",
    "        's1': {\n",
    "            f: {k:0 for k in sim_thresholds} for f in fp_thresholds\n",
    "        },\n",
    "        's2': {\n",
    "            f: {k:0 for k in sim_thresholds} for f in fp_thresholds\n",
    "        },\n",
    "        's1-s2': {\n",
    "            f: {k:0 for k in sim_thresholds} for f in fp_thresholds\n",
    "        }\n",
    "    }\n",
    "    \n",
    "    for i in range(len(s1)):\n",
    "        for j in range(i + 1, len(s1)):\n",
    "            assert s1[i].shape == s1[j].shape\n",
    "            diff = np.absolute(s1[i] - s1[j])\n",
    "            for f in fp_thresholds:\n",
    "                d = np.count_nonzero(diff <= f)\n",
    "                tot = s1[i].shape[0] * s1[i].shape[1]\n",
    "                for t in sim_thresholds:\n",
    "                    if d / tot >= t:\n",
    "                        info['s1'][f][t] += 1\n",
    "\n",
    "    for i in range(len(s2)):\n",
    "        for j in range(i + 1, len(s2)):\n",
    "            assert s2[i].shape == s2[j].shape\n",
    "            diff = np.absolute(s2[i] - s2[j])\n",
    "            for f in fp_thresholds:\n",
    "                d = np.count_nonzero(diff <= f)\n",
    "                tot = s2[i].shape[0] * s2[i].shape[1]\n",
    "                for t in sim_thresholds:\n",
    "                    if d / tot >= t:\n",
    "                        info['s2'][f][t] += 1\n",
    "\n",
    "    for b1 in s1:\n",
    "        for b2 in s2:\n",
    "            assert b1.shape == b2.shape\n",
    "            diff = np.absolute(b1 - b2)\n",
    "            for f in fp_thresholds:\n",
    "                d = np.count_nonzero(diff <= f)\n",
    "                tot = b1.shape[0] * b2.shape[1]\n",
    "                for t in sim_thresholds:\n",
    "                    if d / tot >= t:\n",
    "                        info['s1-s2'][f][t] += 1\n",
    "                    \n",
    "    return info"
   ]
  },
  {
   "cell_type": "code",
   "execution_count": 6,
   "metadata": {},
   "outputs": [],
   "source": [
    "w1 = np.loadtxt(\"vgg19_-1.np\")\n",
    "w2 = np.loadtxt(\"resnet152_-1.np\")"
   ]
  },
  {
   "cell_type": "code",
   "execution_count": 12,
   "metadata": {},
   "outputs": [],
   "source": [
    "block_sizes = [10, 50]\n",
    "for i in range(19):\n",
    "    block_sizes.append(block_sizes[-1] + 50)"
   ]
  },
  {
   "cell_type": "code",
   "execution_count": 36,
   "metadata": {},
   "outputs": [],
   "source": [
    "s1 = split_matrix(w1, 10, 10)\n",
    "s2 = split_matrix(w2, 10, 10)"
   ]
  },
  {
   "cell_type": "code",
   "execution_count": 37,
   "metadata": {},
   "outputs": [
    {
     "ename": "KeyboardInterrupt",
     "evalue": "",
     "output_type": "error",
     "traceback": [
      "\u001b[0;31m---------------------------------------------------------------------------\u001b[0m",
      "\u001b[0;31mKeyboardInterrupt\u001b[0m                         Traceback (most recent call last)",
      "\u001b[0;32m<ipython-input-37-215311ce18f1>\u001b[0m in \u001b[0;36m<module>\u001b[0;34m\u001b[0m\n\u001b[0;32m----> 1\u001b[0;31m \u001b[0mcompare_block_sets\u001b[0m\u001b[0;34m(\u001b[0m\u001b[0ms1\u001b[0m\u001b[0;34m,\u001b[0m \u001b[0ms2\u001b[0m\u001b[0;34m,\u001b[0m \u001b[0;34m[\u001b[0m\u001b[0;36m.6\u001b[0m\u001b[0;34m,\u001b[0m \u001b[0;36m.8\u001b[0m\u001b[0;34m,\u001b[0m \u001b[0;36m.9\u001b[0m\u001b[0;34m]\u001b[0m\u001b[0;34m,\u001b[0m \u001b[0;34m[\u001b[0m\u001b[0;36m0.01\u001b[0m\u001b[0;34m,\u001b[0m \u001b[0;36m0.001\u001b[0m\u001b[0;34m,\u001b[0m \u001b[0;36m0.0001\u001b[0m\u001b[0;34m]\u001b[0m\u001b[0;34m)\u001b[0m\u001b[0;34m\u001b[0m\u001b[0;34m\u001b[0m\u001b[0m\n\u001b[0m",
      "\u001b[0;32m<ipython-input-32-b05970b84fa8>\u001b[0m in \u001b[0;36mcompare_block_sets\u001b[0;34m(s1, s2, sim_thresholds, fp_thresholds)\u001b[0m\n\u001b[1;32m     42\u001b[0m             \u001b[0mdiff\u001b[0m \u001b[0;34m=\u001b[0m \u001b[0mnp\u001b[0m\u001b[0;34m.\u001b[0m\u001b[0mabsolute\u001b[0m\u001b[0;34m(\u001b[0m\u001b[0ms1\u001b[0m\u001b[0;34m[\u001b[0m\u001b[0mi\u001b[0m\u001b[0;34m]\u001b[0m \u001b[0;34m-\u001b[0m \u001b[0ms1\u001b[0m\u001b[0;34m[\u001b[0m\u001b[0mj\u001b[0m\u001b[0;34m]\u001b[0m\u001b[0;34m)\u001b[0m\u001b[0;34m\u001b[0m\u001b[0;34m\u001b[0m\u001b[0m\n\u001b[1;32m     43\u001b[0m             \u001b[0;32mfor\u001b[0m \u001b[0mf\u001b[0m \u001b[0;32min\u001b[0m \u001b[0mfp_thresholds\u001b[0m\u001b[0;34m:\u001b[0m\u001b[0;34m\u001b[0m\u001b[0;34m\u001b[0m\u001b[0m\n\u001b[0;32m---> 44\u001b[0;31m                 \u001b[0md\u001b[0m \u001b[0;34m=\u001b[0m \u001b[0mnp\u001b[0m\u001b[0;34m.\u001b[0m\u001b[0mcount_nonzero\u001b[0m\u001b[0;34m(\u001b[0m\u001b[0mdiff\u001b[0m \u001b[0;34m<=\u001b[0m \u001b[0mf\u001b[0m\u001b[0;34m)\u001b[0m\u001b[0;34m\u001b[0m\u001b[0;34m\u001b[0m\u001b[0m\n\u001b[0m\u001b[1;32m     45\u001b[0m                 \u001b[0mtot\u001b[0m \u001b[0;34m=\u001b[0m \u001b[0ms1\u001b[0m\u001b[0;34m[\u001b[0m\u001b[0mi\u001b[0m\u001b[0;34m]\u001b[0m\u001b[0;34m.\u001b[0m\u001b[0mshape\u001b[0m\u001b[0;34m[\u001b[0m\u001b[0;36m0\u001b[0m\u001b[0;34m]\u001b[0m \u001b[0;34m*\u001b[0m \u001b[0ms1\u001b[0m\u001b[0;34m[\u001b[0m\u001b[0mi\u001b[0m\u001b[0;34m]\u001b[0m\u001b[0;34m.\u001b[0m\u001b[0mshape\u001b[0m\u001b[0;34m[\u001b[0m\u001b[0;36m1\u001b[0m\u001b[0;34m]\u001b[0m\u001b[0;34m\u001b[0m\u001b[0;34m\u001b[0m\u001b[0m\n\u001b[1;32m     46\u001b[0m                 \u001b[0;32mfor\u001b[0m \u001b[0mt\u001b[0m \u001b[0;32min\u001b[0m \u001b[0msim_thresholds\u001b[0m\u001b[0;34m:\u001b[0m\u001b[0;34m\u001b[0m\u001b[0;34m\u001b[0m\u001b[0m\n",
      "\u001b[0;31mKeyboardInterrupt\u001b[0m: "
     ]
    }
   ],
   "source": [
    "compare_block_sets(s1, s2, [.6, .8, .9], [0.01, 0.001, 0.0001])"
   ]
  },
  {
   "cell_type": "code",
   "execution_count": null,
   "metadata": {},
   "outputs": [],
   "source": []
  }
 ],
 "metadata": {
  "kernelspec": {
   "display_name": "Python 3",
   "language": "python",
   "name": "python3"
  },
  "language_info": {
   "codemirror_mode": {
    "name": "ipython",
    "version": 3
   },
   "file_extension": ".py",
   "mimetype": "text/x-python",
   "name": "python",
   "nbconvert_exporter": "python",
   "pygments_lexer": "ipython3",
   "version": "3.8.6"
  }
 },
 "nbformat": 4,
 "nbformat_minor": 4
}
