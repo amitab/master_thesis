{
 "cells": [
  {
   "cell_type": "code",
   "execution_count": 82,
   "metadata": {},
   "outputs": [],
   "source": [
    "import numpy as np\n",
    "import math"
   ]
  },
  {
   "cell_type": "code",
   "execution_count": 83,
   "metadata": {},
   "outputs": [],
   "source": [
    "imgs = np.random.rand(1,1,20,20)\n",
    "header = \"{},{},{},{}\".format(*imgs.shape)"
   ]
  },
  {
   "cell_type": "code",
   "execution_count": 84,
   "metadata": {},
   "outputs": [],
   "source": [
    "channels, X, Y = imgs[0].shape"
   ]
  },
  {
   "cell_type": "code",
   "execution_count": 85,
   "metadata": {},
   "outputs": [],
   "source": [
    "class conv2d:\n",
    "    def __init__(self, k, s, p):\n",
    "        self.k = k\n",
    "        self.p = p\n",
    "        self.s = s\n",
    "\n",
    "    def get_x(self):\n",
    "        return self.X + self.p * 2\n",
    "\n",
    "    def get_y(self):\n",
    "        return self.Y + self.p * 2\n",
    "\n",
    "    def get_win_val(self, w, i, j, ch, imgs, img):    \n",
    "        h_slides = math.floor((self.get_x()-self.k)/self.s) + 1\n",
    "        v_slides = math.floor((self.get_y()-self.k)/self.s) + 1\n",
    "\n",
    "        r = math.floor(w / h_slides)\n",
    "        c = w % h_slides\n",
    "        x = (r * self.s) + i - self.p\n",
    "        y = (c * self.s) + j - self.p\n",
    "\n",
    "        if x < 0 or y < 0 or x >= self.X or y >= self.Y:\n",
    "            return 0\n",
    "\n",
    "        return imgs[img][ch][x][y]\n",
    "    \n",
    "    def img_to_conv2d(self, imgs):\n",
    "        self.channels, self.X, self.Y = imgs[0].shape\n",
    "\n",
    "        h_slides = math.floor((self.get_x()-self.k)/self.s) + 1\n",
    "        v_slides = math.floor((self.get_y()-self.k)/self.s) + 1\n",
    "\n",
    "        windows = h_slides * v_slides\n",
    "\n",
    "        data = []\n",
    "\n",
    "        for w in range(windows):\n",
    "            row = []\n",
    "            for c in range(channels):\n",
    "                for i in range(self.k):\n",
    "                    for j in range(self.k):\n",
    "                        row.append(self.get_win_val(w, i, j, c, imgs, 0))\n",
    "            data.append(row)\n",
    "\n",
    "        return np.array(data)"
   ]
  },
  {
   "cell_type": "code",
   "execution_count": 86,
   "metadata": {},
   "outputs": [],
   "source": [
    "p = 0\n",
    "\n",
    "def get_x():\n",
    "    return X + p * 2\n",
    "\n",
    "def get_y():\n",
    "    return Y + p * 2\n",
    "\n",
    "def get_win_val(w, i, j, s, ch, k, img):    \n",
    "    h_slides = math.floor((get_x()-k)/s) + 1\n",
    "    v_slides = math.floor((get_y()-k)/s) + 1\n",
    "    \n",
    "    r = math.floor(w / h_slides)\n",
    "    c = w % h_slides\n",
    "    x = (r * s) + i - p\n",
    "    y = (c * s) + j - p\n",
    "    \n",
    "    if x < 0 or y < 0 or x >= X or y >= Y:\n",
    "        return 0\n",
    "    \n",
    "    return imgs[img][ch][x][y]\n",
    "\n",
    "def img_to_conv2d():\n",
    "    s = 2\n",
    "    k = 4\n",
    "\n",
    "    h_slides = math.floor((get_x()-k)/s) + 1\n",
    "    v_slides = math.floor((get_y()-k)/s) + 1\n",
    "    \n",
    "    windows = h_slides * v_slides\n",
    "    \n",
    "    data = []\n",
    "    \n",
    "    for w in range(windows):\n",
    "        row = []\n",
    "        for c in range(channels):\n",
    "            for i in range(k):\n",
    "                for j in range(k):\n",
    "                    row.append(get_win_val(w, i, j, s, c, k, 0))\n",
    "        data.append(row)\n",
    "    \n",
    "    return np.array(data)"
   ]
  },
  {
   "cell_type": "code",
   "execution_count": 87,
   "metadata": {},
   "outputs": [
    {
     "data": {
      "text/plain": [
       "True"
      ]
     },
     "execution_count": 87,
     "metadata": {},
     "output_type": "execute_result"
    }
   ],
   "source": [
    "con = conv2d(4, 2, 0)\n",
    "data = con.img_to_conv2d(imgs)\n",
    "\n",
    "data1 = img_to_conv2d()\n",
    "np.array_equal(data, data1)"
   ]
  },
  {
   "cell_type": "code",
   "execution_count": 88,
   "metadata": {},
   "outputs": [
    {
     "data": {
      "text/plain": [
       "(81, 16)"
      ]
     },
     "execution_count": 88,
     "metadata": {},
     "output_type": "execute_result"
    }
   ],
   "source": [
    "data.shape"
   ]
  },
  {
   "cell_type": "code",
   "execution_count": 7,
   "metadata": {},
   "outputs": [
    {
     "data": {
      "text/plain": [
       "(20, 20)"
      ]
     },
     "execution_count": 7,
     "metadata": {},
     "output_type": "execute_result"
    }
   ],
   "source": [
    "imgs[0][0].shape"
   ]
  },
  {
   "cell_type": "code",
   "execution_count": 8,
   "metadata": {},
   "outputs": [],
   "source": [
    "def split(array, nrows, ncols):\n",
    "    \"\"\"Split a matrix into sub-matrices.\"\"\"\n",
    "    r, h = array.shape\n",
    "    if r % nrows != 0:\n",
    "        padding = (math.ceil(r / nrows) * nrows) - r\n",
    "        array = np.vstack((array, np.zeros((padding, h))))\n",
    "        r, h = array.shape\n",
    "    if h % ncols != 0:\n",
    "        padding = (math.ceil(h / ncols) * ncols) - h\n",
    "        array = np.hstack((array, np.zeros((r, padding))))\n",
    "        r, h = array.shape\n",
    "    num_x_blocks = math.ceil(r / float(nrows))\n",
    "    num_y_blocks = math.ceil(h / float(ncols))\n",
    "\n",
    "    rows = np.vsplit(array, num_x_blocks)\n",
    "    return [np.array(np.hsplit(row, num_y_blocks)) for row in rows]"
   ]
  },
  {
   "cell_type": "code",
   "execution_count": 17,
   "metadata": {},
   "outputs": [],
   "source": [
    "splits = split(imgs[0][0], 10, 10)\n",
    "splits = np.concatenate(np.array(splits))"
   ]
  },
  {
   "cell_type": "code",
   "execution_count": 63,
   "metadata": {},
   "outputs": [],
   "source": [
    "# Vertical splits\n",
    "a = splits[0][:,-2:]\n",
    "b = splits[1][:,:2]\n",
    "c = splits[2][:,-2:]\n",
    "d = splits[3][:,:2]\n",
    "\n",
    "# horizontal splits\n",
    "e = splits[0][-2:,:]\n",
    "f = splits[2][:2,:]\n",
    "g = splits[1][-2:,:]\n",
    "h = splits[3][:2,:]\n",
    "\n",
    "# corner splits\n",
    "i = splits[0][-2:,-2:]\n",
    "j = splits[1][-2:,:2]\n",
    "k = splits[2][:2,-2:]\n",
    "l = splits[3][:2,:2]\n",
    "\n",
    "ab = np.hstack((a,b))\n",
    "cd = np.hstack((c,d))\n",
    "\n",
    "ef = np.vstack((e,f))\n",
    "gh = np.vstack((g,h))\n",
    "\n",
    "ijkl = np.hstack(( np.vstack((i, j)), np.vstack((k, l)) ))\n",
    "\n",
    "con = conv2d(4, 2, 0)\n",
    "m = con.img_to_conv2d(splits[0].reshape(1,1,10,10))\n",
    "con = conv2d(4, 2, 0)\n",
    "n = con.img_to_conv2d(ab.reshape(1,1,10,4))\n",
    "con = conv2d(4, 2, 0)\n",
    "o = con.img_to_conv2d(splits[1].reshape(1,1,10,10))\n",
    "\n",
    "con = conv2d(4, 2, 0)\n",
    "p = con.img_to_conv2d(ef.reshape(1,1,4,10))\n",
    "con = conv2d(4, 2, 0)\n",
    "q = con.img_to_conv2d(ijkl.reshape(1,1,4,4))\n",
    "con = conv2d(4, 2, 0)\n",
    "r = con.img_to_conv2d(gh.reshape(1,1,4,10))\n",
    "\n",
    "con = conv2d(4, 2, 0)\n",
    "s = con.img_to_conv2d(splits[2].reshape(1,1,10,10))\n",
    "con = conv2d(4, 2, 0)\n",
    "t = con.img_to_conv2d(cd.reshape(1,1,10,4))\n",
    "con = conv2d(4, 2, 0)\n",
    "u = con.img_to_conv2d(splits[3].reshape(1,1,10,10))"
   ]
  },
  {
   "cell_type": "code",
   "execution_count": 72,
   "metadata": {},
   "outputs": [
    {
     "data": {
      "text/plain": [
       "(4, 16)"
      ]
     },
     "execution_count": 72,
     "metadata": {},
     "output_type": "execute_result"
    }
   ],
   "source": [
    "n.shape"
   ]
  },
  {
   "cell_type": "code",
   "execution_count": 68,
   "metadata": {},
   "outputs": [
    {
     "data": {
      "text/plain": [
       "81"
      ]
     },
     "execution_count": 68,
     "metadata": {},
     "output_type": "execute_result"
    }
   ],
   "source": [
    "16+4+16+4+1+4+16+4+16"
   ]
  },
  {
   "cell_type": "code",
   "execution_count": 75,
   "metadata": {},
   "outputs": [
    {
     "data": {
      "text/plain": [
       "(9, 9)"
      ]
     },
     "execution_count": 75,
     "metadata": {},
     "output_type": "execute_result"
    }
   ],
   "source": [
    "math.floor((20-4)/2) + 1, math.floor((20-4)/2) + 1"
   ]
  },
  {
   "cell_type": "code",
   "execution_count": 73,
   "metadata": {},
   "outputs": [],
   "source": [
    "\"\"\"\n",
    "10x10 - 4x4\n",
    "10x4  - 4x1\n",
    "4x4   - 1x1\n",
    "4x10  - 1x4\n",
    "\"\"\"\n",
    "\n",
    "m = [m[:4,:], m[4:8,:], m[8:12,:], m[12:16,:]]\n",
    "n = [n[i] for i in range(4)]\n",
    "o = [o[:4,:], o[4:8,:], o[8:12,:], o[12:16,:]]"
   ]
  },
  {
   "cell_type": "code",
   "execution_count": 80,
   "metadata": {},
   "outputs": [
    {
     "name": "stdout",
     "output_type": "stream",
     "text": [
      "[0.8696897234909104, 0.09533342043525395, 0.4643393578391408, 0.907208428924151, 0.6349884606136865, 0.08411247152033707, 0.06833496125602212, 0.8933541376652471, 0.7700031976837484, 0.8169831173740064, 0.7881946561654846, 0.9931801138244228, 0.18633547568525455, 0.8579012261376571, 0.7034103520770748, 0.8369643695327349]\n",
      "[0.4643393578391408, 0.907208428924151, 0.7452724245351724, 0.3545438785258658, 0.06833496125602212, 0.8933541376652471, 0.7714564783278428, 0.2974963356074217, 0.7881946561654846, 0.9931801138244228, 0.1873335833453572, 0.3408456005846211, 0.7034103520770748, 0.8369643695327349, 0.5581339334774951, 0.022197319466386256]\n",
      "[0.7452724245351724, 0.3545438785258658, 0.7296589510703292, 0.4181830736022807, 0.7714564783278428, 0.2974963356074217, 0.9636085360616199, 0.5463299505964364, 0.1873335833453572, 0.3408456005846211, 0.806981830085967, 0.840472780040262, 0.5581339334774951, 0.022197319466386256, 0.6935144848111555, 0.9808784430995319]\n",
      "[0.7296589510703292, 0.4181830736022807, 0.10062395362832499, 0.10940067943215082, 0.9636085360616199, 0.5463299505964364, 0.6813725459229921, 0.1993654557354222, 0.806981830085967, 0.840472780040262, 0.08385833834689116, 0.6769063894387977, 0.6935144848111555, 0.9808784430995319, 0.0024565520109377514, 0.030663157566997334]\n",
      "[0.10062395362832499, 0.10940067943215082, 0.39071520628748924, 0.3617443556345893, 0.6813725459229921, 0.1993654557354222, 0.5678410655167255, 0.34111616469486117, 0.08385833834689116, 0.6769063894387977, 0.015715521234146212, 0.8438385750011674, 0.0024565520109377514, 0.030663157566997334, 0.643637486569071, 0.1348125637417238]\n",
      "[0.39071520628748924, 0.3617443556345893, 0.8232586763179575, 0.9737680681061166, 0.5678410655167255, 0.34111616469486117, 0.7833984055615357, 0.6383671575374152, 0.015715521234146212, 0.8438385750011674, 0.4210276110514799, 0.63429611369164, 0.643637486569071, 0.1348125637417238, 0.7801293345474368, 0.4536211186503031]\n",
      "[0.8232586763179575, 0.9737680681061166, 0.7153733692700621, 0.6383928543828283, 0.7833984055615357, 0.6383671575374152, 0.1102562109220957, 0.8297442185456759, 0.4210276110514799, 0.63429611369164, 0.05359592242434197, 0.299986338674354, 0.7801293345474368, 0.4536211186503031, 0.17814668530686917, 0.28779478849458195]\n",
      "[0.7153733692700621, 0.6383928543828283, 0.5819951140517258, 0.47792032744539503, 0.1102562109220957, 0.8297442185456759, 0.7673448736799025, 0.42616491045731364, 0.05359592242434197, 0.299986338674354, 0.947629595287816, 0.9746859000926491, 0.17814668530686917, 0.28779478849458195, 0.3246909989728137, 0.2157390915808275]\n",
      "[0.5819951140517258, 0.47792032744539503, 0.784875262315132, 0.13032454218535705, 0.7673448736799025, 0.42616491045731364, 0.6456492136711225, 0.3096831884027387, 0.947629595287816, 0.9746859000926491, 0.6272586521943392, 0.2611537671129911, 0.3246909989728137, 0.2157390915808275, 0.6440634906135821, 0.6638743060799774]\n"
     ]
    }
   ],
   "source": [
    "k = np.vstack(( m[0], n[0], o[0] ))\n",
    "for i in range(k.shape[0]):\n",
    "    print(k[i].tolist())"
   ]
  },
  {
   "cell_type": "code",
   "execution_count": 78,
   "metadata": {},
   "outputs": [
    {
     "name": "stdout",
     "output_type": "stream",
     "text": [
      "[0.8696897234909104, 0.09533342043525395, 0.4643393578391408, 0.907208428924151, 0.6349884606136865, 0.08411247152033707, 0.06833496125602212, 0.8933541376652471, 0.7700031976837484, 0.8169831173740064, 0.7881946561654846, 0.9931801138244228, 0.18633547568525455, 0.8579012261376571, 0.7034103520770748, 0.8369643695327349]\n",
      "[0.4643393578391408, 0.907208428924151, 0.7452724245351724, 0.3545438785258658, 0.06833496125602212, 0.8933541376652471, 0.7714564783278428, 0.2974963356074217, 0.7881946561654846, 0.9931801138244228, 0.1873335833453572, 0.3408456005846211, 0.7034103520770748, 0.8369643695327349, 0.5581339334774951, 0.022197319466386256]\n",
      "[0.7452724245351724, 0.3545438785258658, 0.7296589510703292, 0.4181830736022807, 0.7714564783278428, 0.2974963356074217, 0.9636085360616199, 0.5463299505964364, 0.1873335833453572, 0.3408456005846211, 0.806981830085967, 0.840472780040262, 0.5581339334774951, 0.022197319466386256, 0.6935144848111555, 0.9808784430995319]\n",
      "[0.7296589510703292, 0.4181830736022807, 0.10062395362832499, 0.10940067943215082, 0.9636085360616199, 0.5463299505964364, 0.6813725459229921, 0.1993654557354222, 0.806981830085967, 0.840472780040262, 0.08385833834689116, 0.6769063894387977, 0.6935144848111555, 0.9808784430995319, 0.0024565520109377514, 0.030663157566997334]\n",
      "[0.10062395362832499, 0.10940067943215082, 0.39071520628748924, 0.3617443556345893, 0.6813725459229921, 0.1993654557354222, 0.5678410655167255, 0.34111616469486117, 0.08385833834689116, 0.6769063894387977, 0.015715521234146212, 0.8438385750011674, 0.0024565520109377514, 0.030663157566997334, 0.643637486569071, 0.1348125637417238]\n",
      "[0.39071520628748924, 0.3617443556345893, 0.8232586763179575, 0.9737680681061166, 0.5678410655167255, 0.34111616469486117, 0.7833984055615357, 0.6383671575374152, 0.015715521234146212, 0.8438385750011674, 0.4210276110514799, 0.63429611369164, 0.643637486569071, 0.1348125637417238, 0.7801293345474368, 0.4536211186503031]\n",
      "[0.8232586763179575, 0.9737680681061166, 0.7153733692700621, 0.6383928543828283, 0.7833984055615357, 0.6383671575374152, 0.1102562109220957, 0.8297442185456759, 0.4210276110514799, 0.63429611369164, 0.05359592242434197, 0.299986338674354, 0.7801293345474368, 0.4536211186503031, 0.17814668530686917, 0.28779478849458195]\n",
      "[0.7153733692700621, 0.6383928543828283, 0.5819951140517258, 0.47792032744539503, 0.1102562109220957, 0.8297442185456759, 0.7673448736799025, 0.42616491045731364, 0.05359592242434197, 0.299986338674354, 0.947629595287816, 0.9746859000926491, 0.17814668530686917, 0.28779478849458195, 0.3246909989728137, 0.2157390915808275]\n",
      "[0.5819951140517258, 0.47792032744539503, 0.784875262315132, 0.13032454218535705, 0.7673448736799025, 0.42616491045731364, 0.6456492136711225, 0.3096831884027387, 0.947629595287816, 0.9746859000926491, 0.6272586521943392, 0.2611537671129911, 0.3246909989728137, 0.2157390915808275, 0.6440634906135821, 0.6638743060799774]\n"
     ]
    }
   ],
   "source": [
    "for i in range(data[:9,:].shape[0]):\n",
    "    print(data[:9,:][i].tolist())"
   ]
  },
  {
   "cell_type": "code",
   "execution_count": 81,
   "metadata": {},
   "outputs": [
    {
     "data": {
      "text/plain": [
       "True"
      ]
     },
     "execution_count": 81,
     "metadata": {},
     "output_type": "execute_result"
    }
   ],
   "source": [
    "np.array_equal(k, data[:9,:])"
   ]
  },
  {
   "cell_type": "code",
   "execution_count": null,
   "metadata": {},
   "outputs": [],
   "source": []
  }
 ],
 "metadata": {
  "kernelspec": {
   "display_name": "Python 3",
   "language": "python",
   "name": "python3"
  },
  "language_info": {
   "codemirror_mode": {
    "name": "ipython",
    "version": 3
   },
   "file_extension": ".py",
   "mimetype": "text/x-python",
   "name": "python",
   "nbconvert_exporter": "python",
   "pygments_lexer": "ipython3",
   "version": "3.8.6"
  }
 },
 "nbformat": 4,
 "nbformat_minor": 4
}
